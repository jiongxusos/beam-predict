{
 "cells": [
  {
   "cell_type": "code",
   "execution_count": 1,
   "id": "initial_id",
   "metadata": {
    "collapsed": true,
    "ExecuteTime": {
     "end_time": "2024-09-26T03:05:53.421094200Z",
     "start_time": "2024-09-26T03:05:51.700951100Z"
    }
   },
   "outputs": [],
   "source": [
    "import pyBeamSim\n",
    "import numpy as np\n",
    "import pandas as pd"
   ]
  },
  {
   "cell_type": "code",
   "execution_count": 2,
   "outputs": [],
   "source": [
    "import torch\n",
    "import torch.nn as nn"
   ],
   "metadata": {
    "collapsed": false,
    "ExecuteTime": {
     "end_time": "2024-09-26T03:05:55.018767200Z",
     "start_time": "2024-09-26T03:05:53.423096200Z"
    }
   },
   "id": "9a75fa4fbc96e6aa"
  },
  {
   "cell_type": "code",
   "execution_count": 10,
   "outputs": [
    {
     "data": {
      "text/plain": "             low  high units\ndrift1_len   0.1   0.5     m\nquad1_len    0.1   0.5     m\nquad1_gra  -20.0  20.0   T/m\ndrift2_len   0.1   0.5     m\nquad2_len    0.1   0.5     m\nquad2_gra  -20.0  20.0   T/m",
      "text/html": "<div>\n<style scoped>\n    .dataframe tbody tr th:only-of-type {\n        vertical-align: middle;\n    }\n\n    .dataframe tbody tr th {\n        vertical-align: top;\n    }\n\n    .dataframe thead th {\n        text-align: right;\n    }\n</style>\n<table border=\"1\" class=\"dataframe\">\n  <thead>\n    <tr style=\"text-align: right;\">\n      <th></th>\n      <th>low</th>\n      <th>high</th>\n      <th>units</th>\n    </tr>\n  </thead>\n  <tbody>\n    <tr>\n      <th>drift1_len</th>\n      <td>0.1</td>\n      <td>0.5</td>\n      <td>m</td>\n    </tr>\n    <tr>\n      <th>quad1_len</th>\n      <td>0.1</td>\n      <td>0.5</td>\n      <td>m</td>\n    </tr>\n    <tr>\n      <th>quad1_gra</th>\n      <td>-20.0</td>\n      <td>20.0</td>\n      <td>T/m</td>\n    </tr>\n    <tr>\n      <th>drift2_len</th>\n      <td>0.1</td>\n      <td>0.5</td>\n      <td>m</td>\n    </tr>\n    <tr>\n      <th>quad2_len</th>\n      <td>0.1</td>\n      <td>0.5</td>\n      <td>m</td>\n    </tr>\n    <tr>\n      <th>quad2_gra</th>\n      <td>-20.0</td>\n      <td>20.0</td>\n      <td>T/m</td>\n    </tr>\n  </tbody>\n</table>\n</div>"
     },
     "execution_count": 10,
     "metadata": {},
     "output_type": "execute_result"
    }
   ],
   "source": [
    "\"\"\"\" variable dataframe created\"\"\"\n",
    "vary = ['drift1_len', 'quad1_len', 'quad1_gra', 'drift2_len', 'quad2_len', 'quad2_gra']\n",
    "low = [0.1, 0.1, -20, 0.1, 0.1, -20]\n",
    "high = [0.5, 0.5, 20, 0.5, 0.5, 20]\n",
    "units = ['m', 'm', 'T/m', 'm', 'm', 'T/m']\n",
    "variable = pd.DataFrame(index=vary)\n",
    "variable['low'] = low\n",
    "variable['high'] = high\n",
    "variable['units'] = units\n",
    "variable"
   ],
   "metadata": {
    "collapsed": false,
    "ExecuteTime": {
     "end_time": "2024-09-26T03:13:39.975187Z",
     "start_time": "2024-09-26T03:13:39.934832300Z"
    }
   },
   "id": "133aa19457dd7b05"
  },
  {
   "cell_type": "code",
   "execution_count": 3,
   "outputs": [
    {
     "data": {
      "text/plain": "           q1        q2        q3        q4\n0    0.839125  0.602589  0.702111  0.019946\n1    0.944647  0.862822  0.438426  0.617143\n2    0.944632  0.446936  0.463139  0.949192\n3    0.308776  0.494719  0.051069  0.068664\n4    0.607214  0.309880  0.760825  0.573454\n..        ...       ...       ...       ...\n995  0.018072  0.722773  0.337488  0.164093\n996  0.376216  0.654177  0.896220  0.688942\n997  0.589349  0.251092  0.021792  0.959933\n998  0.690628  0.971425  0.847366  0.946027\n999  0.338036  0.767478  0.701879  0.194534\n\n[1000 rows x 4 columns]",
      "text/html": "<div>\n<style scoped>\n    .dataframe tbody tr th:only-of-type {\n        vertical-align: middle;\n    }\n\n    .dataframe tbody tr th {\n        vertical-align: top;\n    }\n\n    .dataframe thead th {\n        text-align: right;\n    }\n</style>\n<table border=\"1\" class=\"dataframe\">\n  <thead>\n    <tr style=\"text-align: right;\">\n      <th></th>\n      <th>q1</th>\n      <th>q2</th>\n      <th>q3</th>\n      <th>q4</th>\n    </tr>\n  </thead>\n  <tbody>\n    <tr>\n      <th>0</th>\n      <td>0.839125</td>\n      <td>0.602589</td>\n      <td>0.702111</td>\n      <td>0.019946</td>\n    </tr>\n    <tr>\n      <th>1</th>\n      <td>0.944647</td>\n      <td>0.862822</td>\n      <td>0.438426</td>\n      <td>0.617143</td>\n    </tr>\n    <tr>\n      <th>2</th>\n      <td>0.944632</td>\n      <td>0.446936</td>\n      <td>0.463139</td>\n      <td>0.949192</td>\n    </tr>\n    <tr>\n      <th>3</th>\n      <td>0.308776</td>\n      <td>0.494719</td>\n      <td>0.051069</td>\n      <td>0.068664</td>\n    </tr>\n    <tr>\n      <th>4</th>\n      <td>0.607214</td>\n      <td>0.309880</td>\n      <td>0.760825</td>\n      <td>0.573454</td>\n    </tr>\n    <tr>\n      <th>...</th>\n      <td>...</td>\n      <td>...</td>\n      <td>...</td>\n      <td>...</td>\n    </tr>\n    <tr>\n      <th>995</th>\n      <td>0.018072</td>\n      <td>0.722773</td>\n      <td>0.337488</td>\n      <td>0.164093</td>\n    </tr>\n    <tr>\n      <th>996</th>\n      <td>0.376216</td>\n      <td>0.654177</td>\n      <td>0.896220</td>\n      <td>0.688942</td>\n    </tr>\n    <tr>\n      <th>997</th>\n      <td>0.589349</td>\n      <td>0.251092</td>\n      <td>0.021792</td>\n      <td>0.959933</td>\n    </tr>\n    <tr>\n      <th>998</th>\n      <td>0.690628</td>\n      <td>0.971425</td>\n      <td>0.847366</td>\n      <td>0.946027</td>\n    </tr>\n    <tr>\n      <th>999</th>\n      <td>0.338036</td>\n      <td>0.767478</td>\n      <td>0.701879</td>\n      <td>0.194534</td>\n    </tr>\n  </tbody>\n</table>\n<p>1000 rows × 4 columns</p>\n</div>"
     },
     "execution_count": 3,
     "metadata": {},
     "output_type": "execute_result"
    }
   ],
   "source": [
    "data = {\n",
    "        'q1' : np.random.rand(1000),\n",
    "        'q2' :  np.random.rand(1000),\n",
    "        'q3' : np.random.rand(1000),\n",
    "        'q4' : np.random.rand(1000)\n",
    "}\n",
    "df = pd.DataFrame(data)\n",
    "df"
   ],
   "metadata": {
    "collapsed": false,
    "ExecuteTime": {
     "end_time": "2024-09-16T07:57:42.268698600Z",
     "start_time": "2024-09-16T07:57:42.204170200Z"
    }
   },
   "id": "9e17ef65c745646d"
  },
  {
   "cell_type": "code",
   "execution_count": 4,
   "outputs": [],
   "source": [
    "df['x_avg_1'] = df['q1'] + df['q2']+np.random.normal(0, 1, size=(1000, ))\n",
    "df['x_avg_2'] = df['q2'] + df['q3']+np.random.normal(0, 1, size=(1000, ))\n",
    "df['x_avg_3'] = df['q1'] + df['q4']+np.random.normal(0, 1, size=(1000, ))\n",
    "df['x_avg_4'] = df['q4'] - df['q3']+np.random.normal(0, 1, size=(1000, ))\n"
   ],
   "metadata": {
    "collapsed": false,
    "ExecuteTime": {
     "end_time": "2024-09-16T07:57:42.269698500Z",
     "start_time": "2024-09-16T07:57:42.237180500Z"
    }
   },
   "id": "d5554a96c1317ae5"
  },
  {
   "cell_type": "code",
   "execution_count": 5,
   "outputs": [
    {
     "data": {
      "text/plain": "           q1        q2        q3        q4   x_avg_1   x_avg_2   x_avg_3  \\\n0    0.839125  0.602589  0.702111  0.019946  0.997892  3.515770  0.516437   \n1    0.944647  0.862822  0.438426  0.617143  2.209273  0.746107  0.586802   \n2    0.944632  0.446936  0.463139  0.949192  1.653066  0.476021 -0.196526   \n3    0.308776  0.494719  0.051069  0.068664  0.391196  0.844749  2.806434   \n4    0.607214  0.309880  0.760825  0.573454  2.219280 -0.900799  1.888970   \n..        ...       ...       ...       ...       ...       ...       ...   \n995  0.018072  0.722773  0.337488  0.164093 -1.117398  0.465706  0.651894   \n996  0.376216  0.654177  0.896220  0.688942  2.058256  2.129436  1.437618   \n997  0.589349  0.251092  0.021792  0.959933  1.393356 -0.261288  1.242120   \n998  0.690628  0.971425  0.847366  0.946027  1.008358  1.316556  2.381614   \n999  0.338036  0.767478  0.701879  0.194534  0.715259  2.747109  0.225502   \n\n      x_avg_4  \n0   -1.391773  \n1   -1.195615  \n2    0.162144  \n3    0.067730  \n4   -2.237474  \n..        ...  \n995  0.374917  \n996  2.193371  \n997 -0.176046  \n998  0.559359  \n999 -1.838287  \n\n[1000 rows x 8 columns]",
      "text/html": "<div>\n<style scoped>\n    .dataframe tbody tr th:only-of-type {\n        vertical-align: middle;\n    }\n\n    .dataframe tbody tr th {\n        vertical-align: top;\n    }\n\n    .dataframe thead th {\n        text-align: right;\n    }\n</style>\n<table border=\"1\" class=\"dataframe\">\n  <thead>\n    <tr style=\"text-align: right;\">\n      <th></th>\n      <th>q1</th>\n      <th>q2</th>\n      <th>q3</th>\n      <th>q4</th>\n      <th>x_avg_1</th>\n      <th>x_avg_2</th>\n      <th>x_avg_3</th>\n      <th>x_avg_4</th>\n    </tr>\n  </thead>\n  <tbody>\n    <tr>\n      <th>0</th>\n      <td>0.839125</td>\n      <td>0.602589</td>\n      <td>0.702111</td>\n      <td>0.019946</td>\n      <td>0.997892</td>\n      <td>3.515770</td>\n      <td>0.516437</td>\n      <td>-1.391773</td>\n    </tr>\n    <tr>\n      <th>1</th>\n      <td>0.944647</td>\n      <td>0.862822</td>\n      <td>0.438426</td>\n      <td>0.617143</td>\n      <td>2.209273</td>\n      <td>0.746107</td>\n      <td>0.586802</td>\n      <td>-1.195615</td>\n    </tr>\n    <tr>\n      <th>2</th>\n      <td>0.944632</td>\n      <td>0.446936</td>\n      <td>0.463139</td>\n      <td>0.949192</td>\n      <td>1.653066</td>\n      <td>0.476021</td>\n      <td>-0.196526</td>\n      <td>0.162144</td>\n    </tr>\n    <tr>\n      <th>3</th>\n      <td>0.308776</td>\n      <td>0.494719</td>\n      <td>0.051069</td>\n      <td>0.068664</td>\n      <td>0.391196</td>\n      <td>0.844749</td>\n      <td>2.806434</td>\n      <td>0.067730</td>\n    </tr>\n    <tr>\n      <th>4</th>\n      <td>0.607214</td>\n      <td>0.309880</td>\n      <td>0.760825</td>\n      <td>0.573454</td>\n      <td>2.219280</td>\n      <td>-0.900799</td>\n      <td>1.888970</td>\n      <td>-2.237474</td>\n    </tr>\n    <tr>\n      <th>...</th>\n      <td>...</td>\n      <td>...</td>\n      <td>...</td>\n      <td>...</td>\n      <td>...</td>\n      <td>...</td>\n      <td>...</td>\n      <td>...</td>\n    </tr>\n    <tr>\n      <th>995</th>\n      <td>0.018072</td>\n      <td>0.722773</td>\n      <td>0.337488</td>\n      <td>0.164093</td>\n      <td>-1.117398</td>\n      <td>0.465706</td>\n      <td>0.651894</td>\n      <td>0.374917</td>\n    </tr>\n    <tr>\n      <th>996</th>\n      <td>0.376216</td>\n      <td>0.654177</td>\n      <td>0.896220</td>\n      <td>0.688942</td>\n      <td>2.058256</td>\n      <td>2.129436</td>\n      <td>1.437618</td>\n      <td>2.193371</td>\n    </tr>\n    <tr>\n      <th>997</th>\n      <td>0.589349</td>\n      <td>0.251092</td>\n      <td>0.021792</td>\n      <td>0.959933</td>\n      <td>1.393356</td>\n      <td>-0.261288</td>\n      <td>1.242120</td>\n      <td>-0.176046</td>\n    </tr>\n    <tr>\n      <th>998</th>\n      <td>0.690628</td>\n      <td>0.971425</td>\n      <td>0.847366</td>\n      <td>0.946027</td>\n      <td>1.008358</td>\n      <td>1.316556</td>\n      <td>2.381614</td>\n      <td>0.559359</td>\n    </tr>\n    <tr>\n      <th>999</th>\n      <td>0.338036</td>\n      <td>0.767478</td>\n      <td>0.701879</td>\n      <td>0.194534</td>\n      <td>0.715259</td>\n      <td>2.747109</td>\n      <td>0.225502</td>\n      <td>-1.838287</td>\n    </tr>\n  </tbody>\n</table>\n<p>1000 rows × 8 columns</p>\n</div>"
     },
     "execution_count": 5,
     "metadata": {},
     "output_type": "execute_result"
    }
   ],
   "source": [
    "df"
   ],
   "metadata": {
    "collapsed": false,
    "ExecuteTime": {
     "end_time": "2024-09-16T07:57:42.328699Z",
     "start_time": "2024-09-16T07:57:42.250698800Z"
    }
   },
   "id": "2b6dbe1059cae961"
  },
  {
   "cell_type": "code",
   "execution_count": 20,
   "outputs": [],
   "source": [
    "class EncoderLstm(nn.Module):\n",
    "    def __init__(self, input_size, hidden_size):\n",
    "        super(EncoderLstm, self).__init__()\n",
    "        self.hidden_size = hidden_size\n",
    "        # self.embedding = nn.Embedding(input_size, hidden_size)\n",
    "        self.lstm = nn.LSTM(input_size, hidden_size, batch_first=True)\n",
    "\n",
    "    def forward(self, x, hidden):\n",
    "        # embedded = self.embedding(x).view(1, 1, -1)\n",
    "        output, hidden = self.lstm(x, hidden)\n",
    "        return output, hidden\n",
    "\n",
    "    def initHidden(self, batch_size):\n",
    "        return (torch.zeros(1, batch_size, self.hidden_size),\n",
    "                torch.zeros(1, batch_size, self.hidden_size))\n",
    "# output_encoder shape: [batch_size, seq_len, hidden_size]\n",
    "# hidden_encoder shape : [1, batch_size, hidden_size]"
   ],
   "metadata": {
    "collapsed": false,
    "ExecuteTime": {
     "end_time": "2024-09-16T07:58:29.620Z",
     "start_time": "2024-09-16T07:58:29.601001200Z"
    }
   },
   "id": "e846fbb7f5e4b2d1"
  },
  {
   "cell_type": "code",
   "execution_count": 21,
   "outputs": [],
   "source": [
    "class DecoderLstm(nn.Module):\n",
    "    def __init__(self, input_size, hidden_size, output_size):\n",
    "        super(DecoderLstm, self).__init__()\n",
    "        self.input_size = input_size\n",
    "        self.hidden_size = hidden_size\n",
    "        self.output_size = output_size\n",
    "        # self.embedding = nn.Embedding(output_size, hidden_size)\n",
    "        self.lstm = nn.LSTM(input_size, hidden_size, batch_first=True)\n",
    "\n",
    "        self.fc = nn.Linear(hidden_size, output_size)\n",
    "\n",
    "    def forward(self, x, hidden):\n",
    "        # embedded = self.embedding(x).view(1, 1, -1)\n",
    "\n",
    "        # x.shape~X[:, -1, :]: [batch_size, input_size]\n",
    "        output, hidden = self.lstm(x.unsqueeze(1), hidden)\n",
    "        # output_shape: [batch_size, seq_len=1, hidden_size]\n",
    "        # hidden shape: [1, batch_size, hidden_size]\n",
    "        output = self.fc(output.squeeze(1))\n",
    "        # output_decoder  shape: [batch_size, output_size]\n",
    "        return output, hidden\n",
    "\n",
    "    def initHidden(self, batch_size):\n",
    "        return (torch.zeros(1, batch_size, self.hidden_size),\n",
    "                torch.zeros(1, batch_size, self.hidden_size))\n"
   ],
   "metadata": {
    "collapsed": false,
    "ExecuteTime": {
     "end_time": "2024-09-16T07:58:29.948962200Z",
     "start_time": "2024-09-16T07:58:29.931962800Z"
    }
   },
   "id": "c76ed8d04f6f080d"
  },
  {
   "cell_type": "markdown",
   "source": [
    "### test"
   ],
   "metadata": {
    "collapsed": false
   },
   "id": "b459c4c8b6d3c2de"
  },
  {
   "cell_type": "code",
   "execution_count": 22,
   "outputs": [],
   "source": [
    "batch_size, seq_len, input_size = 10, 20, 30\n",
    "hidden_size = 40\n",
    "a = torch.ones(size=(batch_size, seq_len, input_size))  # (batch_size, input_size, seq_len)\n",
    "ml = nn.LSTM(input_size, hidden_size, batch_first=True)\n",
    "output, (hn, cn) = ml(a)"
   ],
   "metadata": {
    "collapsed": false,
    "ExecuteTime": {
     "end_time": "2024-09-16T07:58:30.661744700Z",
     "start_time": "2024-09-16T07:58:30.634746100Z"
    }
   },
   "id": "dd11a6575e2a348f"
  },
  {
   "cell_type": "code",
   "execution_count": 23,
   "outputs": [
    {
     "data": {
      "text/plain": "torch.Size([10, 20, 40])"
     },
     "execution_count": 23,
     "metadata": {},
     "output_type": "execute_result"
    }
   ],
   "source": [
    "output.shape\n"
   ],
   "metadata": {
    "collapsed": false,
    "ExecuteTime": {
     "end_time": "2024-09-16T07:58:30.989048600Z",
     "start_time": "2024-09-16T07:58:30.962314600Z"
    }
   },
   "id": "558ccd3a1abe34b"
  },
  {
   "cell_type": "code",
   "execution_count": 24,
   "outputs": [
    {
     "data": {
      "text/plain": "torch.Size([1, 10, 40])"
     },
     "execution_count": 24,
     "metadata": {},
     "output_type": "execute_result"
    }
   ],
   "source": [
    "cn.shape"
   ],
   "metadata": {
    "collapsed": false,
    "ExecuteTime": {
     "end_time": "2024-09-16T07:58:31.389884300Z",
     "start_time": "2024-09-16T07:58:31.363369500Z"
    }
   },
   "id": "c76216d070c8feb3"
  },
  {
   "cell_type": "code",
   "execution_count": 24,
   "outputs": [],
   "source": [],
   "metadata": {
    "collapsed": false,
    "ExecuteTime": {
     "end_time": "2024-09-16T07:58:31.858318800Z",
     "start_time": "2024-09-16T07:58:31.834323400Z"
    }
   },
   "id": "50f1ceb4c14aea8c"
  },
  {
   "cell_type": "markdown",
   "source": [
    "### do"
   ],
   "metadata": {
    "collapsed": false
   },
   "id": "a6f69107d3a3d5a8"
  },
  {
   "cell_type": "code",
   "execution_count": 25,
   "outputs": [
    {
     "data": {
      "text/plain": "(1000, 4)"
     },
     "execution_count": 25,
     "metadata": {},
     "output_type": "execute_result"
    }
   ],
   "source": [
    "input_size = 1\n",
    "hidden_size = 30\n",
    "output_size = 1\n",
    "batch_size = 1000\n",
    "output_len = 4\n",
    "#seq_len = 4\n",
    "\n",
    "encoder = EncoderLstm(input_size, hidden_size)\n",
    "decoder = DecoderLstm(input_size= input_size, hidden_size= hidden_size, output_size=output_size)\n",
    "\n",
    "# X = torch.Tensor(df.iloc[:, :4])\n",
    "# y = torch.Tensor(df.iloc[:, 4:])\n",
    "X = df.iloc[:, :4]\n",
    "y = df.iloc[:, 4:]\n",
    "X.shape\n"
   ],
   "metadata": {
    "collapsed": false,
    "ExecuteTime": {
     "end_time": "2024-09-16T07:58:32.561255700Z",
     "start_time": "2024-09-16T07:58:32.546255600Z"
    }
   },
   "id": "faa4aaa7b920dd15"
  },
  {
   "cell_type": "code",
   "execution_count": 26,
   "outputs": [
    {
     "data": {
      "text/plain": "torch.Size([1000, 4])"
     },
     "execution_count": 26,
     "metadata": {},
     "output_type": "execute_result"
    }
   ],
   "source": [
    "X = torch.Tensor(X.values)\n",
    "y = torch.Tensor(y.values)\n",
    "X.shape"
   ],
   "metadata": {
    "collapsed": false,
    "ExecuteTime": {
     "end_time": "2024-09-16T07:58:32.988222100Z",
     "start_time": "2024-09-16T07:58:32.968689300Z"
    }
   },
   "id": "690f8a3216b422cc"
  },
  {
   "cell_type": "code",
   "execution_count": 27,
   "outputs": [
    {
     "data": {
      "text/plain": "torch.Size([1000, 4, 1])"
     },
     "execution_count": 27,
     "metadata": {},
     "output_type": "execute_result"
    }
   ],
   "source": [
    "X = X.reshape(X.size(0), X.size(1), -1)\n",
    "y = y.reshape(y.size(0), y.size(1), -1)\n",
    "y.shape\n"
   ],
   "metadata": {
    "collapsed": false,
    "ExecuteTime": {
     "end_time": "2024-09-16T07:58:33.319335500Z",
     "start_time": "2024-09-16T07:58:33.294339Z"
    }
   },
   "id": "b62ef268e9fd2ec"
  },
  {
   "cell_type": "code",
   "execution_count": 28,
   "outputs": [
    {
     "data": {
      "text/plain": "torch.Size([1, 1000, 30])"
     },
     "execution_count": 28,
     "metadata": {},
     "output_type": "execute_result"
    }
   ],
   "source": [
    "hidden_state = encoder.initHidden(batch_size)\n",
    "# output, hidden = encoder(X)\n",
    "hidden_state[0].shape"
   ],
   "metadata": {
    "collapsed": false,
    "ExecuteTime": {
     "end_time": "2024-09-16T07:58:33.696032Z",
     "start_time": "2024-09-16T07:58:33.677513400Z"
    }
   },
   "id": "6abee122d52f744"
  },
  {
   "cell_type": "code",
   "execution_count": 29,
   "outputs": [],
   "source": [
    "encoder_outputs, hidden_encoder = encoder(X, hidden_state)"
   ],
   "metadata": {
    "collapsed": false,
    "ExecuteTime": {
     "end_time": "2024-09-16T07:58:34.279836400Z",
     "start_time": "2024-09-16T07:58:34.257825300Z"
    }
   },
   "id": "167e549b4726c5f1"
  },
  {
   "cell_type": "code",
   "execution_count": 30,
   "outputs": [
    {
     "data": {
      "text/plain": "torch.Size([1000, 4, 30])"
     },
     "execution_count": 30,
     "metadata": {},
     "output_type": "execute_result"
    }
   ],
   "source": [
    "encoder_outputs.shape"
   ],
   "metadata": {
    "collapsed": false,
    "ExecuteTime": {
     "end_time": "2024-09-16T07:58:34.569830100Z",
     "start_time": "2024-09-16T07:58:34.549827Z"
    }
   },
   "id": "9167fb9f193fcbea"
  },
  {
   "cell_type": "code",
   "execution_count": 31,
   "outputs": [
    {
     "data": {
      "text/plain": "torch.Size([1, 1000, 30])"
     },
     "execution_count": 31,
     "metadata": {},
     "output_type": "execute_result"
    }
   ],
   "source": [
    "hidden_encoder[0].shape"
   ],
   "metadata": {
    "collapsed": false,
    "ExecuteTime": {
     "end_time": "2024-09-16T07:58:34.926416Z",
     "start_time": "2024-09-16T07:58:34.913414Z"
    }
   },
   "id": "79fcd66b49eeb72"
  },
  {
   "cell_type": "markdown",
   "source": [
    "take output_encoder as input_decoder"
   ],
   "metadata": {
    "collapsed": false
   },
   "id": "b2c12bbc6087edcb"
  },
  {
   "cell_type": "code",
   "execution_count": 32,
   "outputs": [
    {
     "ename": "RuntimeError",
     "evalue": "input.size(-1) must be equal to input_size. Expected 1, got 30",
     "output_type": "error",
     "traceback": [
      "\u001B[1;31m---------------------------------------------------------------------------\u001B[0m",
      "\u001B[1;31mRuntimeError\u001B[0m                              Traceback (most recent call last)",
      "Cell \u001B[1;32mIn[32], line 1\u001B[0m\n\u001B[1;32m----> 1\u001B[0m decoder_outputs, hidden_decoder \u001B[38;5;241m=\u001B[39m \u001B[43mdecoder\u001B[49m\u001B[43m(\u001B[49m\u001B[43mencoder_outputs\u001B[49m\u001B[43m[\u001B[49m\u001B[43m:\u001B[49m\u001B[43m,\u001B[49m\u001B[43m \u001B[49m\u001B[38;5;241;43m-\u001B[39;49m\u001B[38;5;241;43m1\u001B[39;49m\u001B[43m,\u001B[49m\u001B[43m \u001B[49m\u001B[43m:\u001B[49m\u001B[43m]\u001B[49m\u001B[43m,\u001B[49m\u001B[43m \u001B[49m\u001B[43mhidden_encoder\u001B[49m\u001B[43m)\u001B[49m\n",
      "File \u001B[1;32mD:\\anaconda\\envs\\boluo\\lib\\site-packages\\torch\\nn\\modules\\module.py:1194\u001B[0m, in \u001B[0;36mModule._call_impl\u001B[1;34m(self, *input, **kwargs)\u001B[0m\n\u001B[0;32m   1190\u001B[0m \u001B[38;5;66;03m# If we don't have any hooks, we want to skip the rest of the logic in\u001B[39;00m\n\u001B[0;32m   1191\u001B[0m \u001B[38;5;66;03m# this function, and just call forward.\u001B[39;00m\n\u001B[0;32m   1192\u001B[0m \u001B[38;5;28;01mif\u001B[39;00m \u001B[38;5;129;01mnot\u001B[39;00m (\u001B[38;5;28mself\u001B[39m\u001B[38;5;241m.\u001B[39m_backward_hooks \u001B[38;5;129;01mor\u001B[39;00m \u001B[38;5;28mself\u001B[39m\u001B[38;5;241m.\u001B[39m_forward_hooks \u001B[38;5;129;01mor\u001B[39;00m \u001B[38;5;28mself\u001B[39m\u001B[38;5;241m.\u001B[39m_forward_pre_hooks \u001B[38;5;129;01mor\u001B[39;00m _global_backward_hooks\n\u001B[0;32m   1193\u001B[0m         \u001B[38;5;129;01mor\u001B[39;00m _global_forward_hooks \u001B[38;5;129;01mor\u001B[39;00m _global_forward_pre_hooks):\n\u001B[1;32m-> 1194\u001B[0m     \u001B[38;5;28;01mreturn\u001B[39;00m forward_call(\u001B[38;5;241m*\u001B[39m\u001B[38;5;28minput\u001B[39m, \u001B[38;5;241m*\u001B[39m\u001B[38;5;241m*\u001B[39mkwargs)\n\u001B[0;32m   1195\u001B[0m \u001B[38;5;66;03m# Do not call functions when jit is used\u001B[39;00m\n\u001B[0;32m   1196\u001B[0m full_backward_hooks, non_full_backward_hooks \u001B[38;5;241m=\u001B[39m [], []\n",
      "Cell \u001B[1;32mIn[21], line 16\u001B[0m, in \u001B[0;36mDecoderLstm.forward\u001B[1;34m(self, x, hidden)\u001B[0m\n\u001B[0;32m     12\u001B[0m \u001B[38;5;28;01mdef\u001B[39;00m \u001B[38;5;21mforward\u001B[39m(\u001B[38;5;28mself\u001B[39m, x, hidden):\n\u001B[0;32m     13\u001B[0m     \u001B[38;5;66;03m# embedded = self.embedding(x).view(1, 1, -1)\u001B[39;00m\n\u001B[0;32m     14\u001B[0m \n\u001B[0;32m     15\u001B[0m     \u001B[38;5;66;03m# x.shape~X[:, -1, :]: [batch_size, input_size]\u001B[39;00m\n\u001B[1;32m---> 16\u001B[0m     output, hidden \u001B[38;5;241m=\u001B[39m \u001B[38;5;28;43mself\u001B[39;49m\u001B[38;5;241;43m.\u001B[39;49m\u001B[43mlstm\u001B[49m\u001B[43m(\u001B[49m\u001B[43mx\u001B[49m\u001B[38;5;241;43m.\u001B[39;49m\u001B[43munsqueeze\u001B[49m\u001B[43m(\u001B[49m\u001B[38;5;241;43m1\u001B[39;49m\u001B[43m)\u001B[49m\u001B[43m,\u001B[49m\u001B[43m \u001B[49m\u001B[43mhidden\u001B[49m\u001B[43m)\u001B[49m\n\u001B[0;32m     17\u001B[0m     \u001B[38;5;66;03m# output_shape: [batch_size, seq_len=1, hidden_size]\u001B[39;00m\n\u001B[0;32m     18\u001B[0m     \u001B[38;5;66;03m# hidden shape: [1, batch_size, hidden_size]\u001B[39;00m\n\u001B[0;32m     19\u001B[0m     output \u001B[38;5;241m=\u001B[39m \u001B[38;5;28mself\u001B[39m\u001B[38;5;241m.\u001B[39mfc(output\u001B[38;5;241m.\u001B[39msqueeze(\u001B[38;5;241m1\u001B[39m))\n",
      "File \u001B[1;32mD:\\anaconda\\envs\\boluo\\lib\\site-packages\\torch\\nn\\modules\\module.py:1194\u001B[0m, in \u001B[0;36mModule._call_impl\u001B[1;34m(self, *input, **kwargs)\u001B[0m\n\u001B[0;32m   1190\u001B[0m \u001B[38;5;66;03m# If we don't have any hooks, we want to skip the rest of the logic in\u001B[39;00m\n\u001B[0;32m   1191\u001B[0m \u001B[38;5;66;03m# this function, and just call forward.\u001B[39;00m\n\u001B[0;32m   1192\u001B[0m \u001B[38;5;28;01mif\u001B[39;00m \u001B[38;5;129;01mnot\u001B[39;00m (\u001B[38;5;28mself\u001B[39m\u001B[38;5;241m.\u001B[39m_backward_hooks \u001B[38;5;129;01mor\u001B[39;00m \u001B[38;5;28mself\u001B[39m\u001B[38;5;241m.\u001B[39m_forward_hooks \u001B[38;5;129;01mor\u001B[39;00m \u001B[38;5;28mself\u001B[39m\u001B[38;5;241m.\u001B[39m_forward_pre_hooks \u001B[38;5;129;01mor\u001B[39;00m _global_backward_hooks\n\u001B[0;32m   1193\u001B[0m         \u001B[38;5;129;01mor\u001B[39;00m _global_forward_hooks \u001B[38;5;129;01mor\u001B[39;00m _global_forward_pre_hooks):\n\u001B[1;32m-> 1194\u001B[0m     \u001B[38;5;28;01mreturn\u001B[39;00m forward_call(\u001B[38;5;241m*\u001B[39m\u001B[38;5;28minput\u001B[39m, \u001B[38;5;241m*\u001B[39m\u001B[38;5;241m*\u001B[39mkwargs)\n\u001B[0;32m   1195\u001B[0m \u001B[38;5;66;03m# Do not call functions when jit is used\u001B[39;00m\n\u001B[0;32m   1196\u001B[0m full_backward_hooks, non_full_backward_hooks \u001B[38;5;241m=\u001B[39m [], []\n",
      "File \u001B[1;32mD:\\anaconda\\envs\\boluo\\lib\\site-packages\\torch\\nn\\modules\\rnn.py:772\u001B[0m, in \u001B[0;36mLSTM.forward\u001B[1;34m(self, input, hx)\u001B[0m\n\u001B[0;32m    768\u001B[0m     \u001B[38;5;66;03m# Each batch of the hidden state should match the input sequence that\u001B[39;00m\n\u001B[0;32m    769\u001B[0m     \u001B[38;5;66;03m# the user believes he/she is passing in.\u001B[39;00m\n\u001B[0;32m    770\u001B[0m     hx \u001B[38;5;241m=\u001B[39m \u001B[38;5;28mself\u001B[39m\u001B[38;5;241m.\u001B[39mpermute_hidden(hx, sorted_indices)\n\u001B[1;32m--> 772\u001B[0m \u001B[38;5;28;43mself\u001B[39;49m\u001B[38;5;241;43m.\u001B[39;49m\u001B[43mcheck_forward_args\u001B[49m\u001B[43m(\u001B[49m\u001B[38;5;28;43minput\u001B[39;49m\u001B[43m,\u001B[49m\u001B[43m \u001B[49m\u001B[43mhx\u001B[49m\u001B[43m,\u001B[49m\u001B[43m \u001B[49m\u001B[43mbatch_sizes\u001B[49m\u001B[43m)\u001B[49m\n\u001B[0;32m    773\u001B[0m \u001B[38;5;28;01mif\u001B[39;00m batch_sizes \u001B[38;5;129;01mis\u001B[39;00m \u001B[38;5;28;01mNone\u001B[39;00m:\n\u001B[0;32m    774\u001B[0m     result \u001B[38;5;241m=\u001B[39m _VF\u001B[38;5;241m.\u001B[39mlstm(\u001B[38;5;28minput\u001B[39m, hx, \u001B[38;5;28mself\u001B[39m\u001B[38;5;241m.\u001B[39m_flat_weights, \u001B[38;5;28mself\u001B[39m\u001B[38;5;241m.\u001B[39mbias, \u001B[38;5;28mself\u001B[39m\u001B[38;5;241m.\u001B[39mnum_layers,\n\u001B[0;32m    775\u001B[0m                       \u001B[38;5;28mself\u001B[39m\u001B[38;5;241m.\u001B[39mdropout, \u001B[38;5;28mself\u001B[39m\u001B[38;5;241m.\u001B[39mtraining, \u001B[38;5;28mself\u001B[39m\u001B[38;5;241m.\u001B[39mbidirectional, \u001B[38;5;28mself\u001B[39m\u001B[38;5;241m.\u001B[39mbatch_first)\n",
      "File \u001B[1;32mD:\\anaconda\\envs\\boluo\\lib\\site-packages\\torch\\nn\\modules\\rnn.py:697\u001B[0m, in \u001B[0;36mLSTM.check_forward_args\u001B[1;34m(self, input, hidden, batch_sizes)\u001B[0m\n\u001B[0;32m    692\u001B[0m \u001B[38;5;28;01mdef\u001B[39;00m \u001B[38;5;21mcheck_forward_args\u001B[39m(\u001B[38;5;28mself\u001B[39m,  \u001B[38;5;66;03m# type: ignore[override]\u001B[39;00m\n\u001B[0;32m    693\u001B[0m                        \u001B[38;5;28minput\u001B[39m: Tensor,\n\u001B[0;32m    694\u001B[0m                        hidden: Tuple[Tensor, Tensor],\n\u001B[0;32m    695\u001B[0m                        batch_sizes: Optional[Tensor],\n\u001B[0;32m    696\u001B[0m                        ):\n\u001B[1;32m--> 697\u001B[0m     \u001B[38;5;28;43mself\u001B[39;49m\u001B[38;5;241;43m.\u001B[39;49m\u001B[43mcheck_input\u001B[49m\u001B[43m(\u001B[49m\u001B[38;5;28;43minput\u001B[39;49m\u001B[43m,\u001B[49m\u001B[43m \u001B[49m\u001B[43mbatch_sizes\u001B[49m\u001B[43m)\u001B[49m\n\u001B[0;32m    698\u001B[0m     \u001B[38;5;28mself\u001B[39m\u001B[38;5;241m.\u001B[39mcheck_hidden_size(hidden[\u001B[38;5;241m0\u001B[39m], \u001B[38;5;28mself\u001B[39m\u001B[38;5;241m.\u001B[39mget_expected_hidden_size(\u001B[38;5;28minput\u001B[39m, batch_sizes),\n\u001B[0;32m    699\u001B[0m                            \u001B[38;5;124m'\u001B[39m\u001B[38;5;124mExpected hidden[0] size \u001B[39m\u001B[38;5;132;01m{}\u001B[39;00m\u001B[38;5;124m, got \u001B[39m\u001B[38;5;132;01m{}\u001B[39;00m\u001B[38;5;124m'\u001B[39m)\n\u001B[0;32m    700\u001B[0m     \u001B[38;5;28mself\u001B[39m\u001B[38;5;241m.\u001B[39mcheck_hidden_size(hidden[\u001B[38;5;241m1\u001B[39m], \u001B[38;5;28mself\u001B[39m\u001B[38;5;241m.\u001B[39mget_expected_cell_size(\u001B[38;5;28minput\u001B[39m, batch_sizes),\n\u001B[0;32m    701\u001B[0m                            \u001B[38;5;124m'\u001B[39m\u001B[38;5;124mExpected hidden[1] size \u001B[39m\u001B[38;5;132;01m{}\u001B[39;00m\u001B[38;5;124m, got \u001B[39m\u001B[38;5;132;01m{}\u001B[39;00m\u001B[38;5;124m'\u001B[39m)\n",
      "File \u001B[1;32mD:\\anaconda\\envs\\boluo\\lib\\site-packages\\torch\\nn\\modules\\rnn.py:210\u001B[0m, in \u001B[0;36mRNNBase.check_input\u001B[1;34m(self, input, batch_sizes)\u001B[0m\n\u001B[0;32m    206\u001B[0m     \u001B[38;5;28;01mraise\u001B[39;00m \u001B[38;5;167;01mRuntimeError\u001B[39;00m(\n\u001B[0;32m    207\u001B[0m         \u001B[38;5;124m'\u001B[39m\u001B[38;5;124minput must have \u001B[39m\u001B[38;5;132;01m{}\u001B[39;00m\u001B[38;5;124m dimensions, got \u001B[39m\u001B[38;5;132;01m{}\u001B[39;00m\u001B[38;5;124m'\u001B[39m\u001B[38;5;241m.\u001B[39mformat(\n\u001B[0;32m    208\u001B[0m             expected_input_dim, \u001B[38;5;28minput\u001B[39m\u001B[38;5;241m.\u001B[39mdim()))\n\u001B[0;32m    209\u001B[0m \u001B[38;5;28;01mif\u001B[39;00m \u001B[38;5;28mself\u001B[39m\u001B[38;5;241m.\u001B[39minput_size \u001B[38;5;241m!=\u001B[39m \u001B[38;5;28minput\u001B[39m\u001B[38;5;241m.\u001B[39msize(\u001B[38;5;241m-\u001B[39m\u001B[38;5;241m1\u001B[39m):\n\u001B[1;32m--> 210\u001B[0m     \u001B[38;5;28;01mraise\u001B[39;00m \u001B[38;5;167;01mRuntimeError\u001B[39;00m(\n\u001B[0;32m    211\u001B[0m         \u001B[38;5;124m'\u001B[39m\u001B[38;5;124minput.size(-1) must be equal to input_size. Expected \u001B[39m\u001B[38;5;132;01m{}\u001B[39;00m\u001B[38;5;124m, got \u001B[39m\u001B[38;5;132;01m{}\u001B[39;00m\u001B[38;5;124m'\u001B[39m\u001B[38;5;241m.\u001B[39mformat(\n\u001B[0;32m    212\u001B[0m             \u001B[38;5;28mself\u001B[39m\u001B[38;5;241m.\u001B[39minput_size, \u001B[38;5;28minput\u001B[39m\u001B[38;5;241m.\u001B[39msize(\u001B[38;5;241m-\u001B[39m\u001B[38;5;241m1\u001B[39m)))\n",
      "\u001B[1;31mRuntimeError\u001B[0m: input.size(-1) must be equal to input_size. Expected 1, got 30"
     ]
    }
   ],
   "source": [
    "decoder_outputs, hidden_decoder = decoder(encoder_outputs[:, -1, :], hidden_encoder)"
   ],
   "metadata": {
    "collapsed": false,
    "ExecuteTime": {
     "end_time": "2024-09-16T07:58:36.081457900Z",
     "start_time": "2024-09-16T07:58:35.943761600Z"
    }
   },
   "id": "1ff526916424e1d7"
  },
  {
   "cell_type": "code",
   "execution_count": null,
   "outputs": [],
   "source": [
    "encoder_outputs[:, -1, :].shape"
   ],
   "metadata": {
    "collapsed": false,
    "ExecuteTime": {
     "start_time": "2024-09-16T07:57:44.041363600Z"
    }
   },
   "id": "a84278cd9676af78"
  },
  {
   "cell_type": "markdown",
   "source": [
    "take input_encoder[:, -1, :] as input_decoder"
   ],
   "metadata": {
    "collapsed": false
   },
   "id": "e7689d2d5742ee71"
  },
  {
   "cell_type": "code",
   "execution_count": null,
   "outputs": [],
   "source": [
    "input_decoder = X[:, -1, :].unsqueeze(1)\n",
    "output_total = []\n",
    "for i in range(4):\n",
    "    output_decoder, hidden_decoder = decoder(input_decoder, hidden_encoder)\n",
    "    input_decoder = output_decoder.unsqueeze(1)\n",
    "    hidden_encoder = hidden_decoder\n",
    "    output_total.append(output_decoder)"
   ],
   "metadata": {
    "collapsed": false,
    "ExecuteTime": {
     "end_time": "2024-09-16T07:57:44.045363600Z",
     "start_time": "2024-09-16T07:57:44.043365200Z"
    }
   },
   "id": "4448c6ad11343e3e"
  },
  {
   "cell_type": "code",
   "execution_count": null,
   "outputs": [],
   "source": [
    "output_total[0].shape"
   ],
   "metadata": {
    "collapsed": false,
    "ExecuteTime": {
     "end_time": "2024-09-16T07:57:44.086797200Z",
     "start_time": "2024-09-16T07:57:44.045363600Z"
    }
   },
   "id": "39477d8c36aae50f"
  },
  {
   "cell_type": "code",
   "execution_count": null,
   "outputs": [],
   "source": [
    "c = torch.concat(output_total, dim=1)\n",
    "c"
   ],
   "metadata": {
    "collapsed": false,
    "ExecuteTime": {
     "start_time": "2024-09-16T07:57:44.048454700Z"
    }
   },
   "id": "19cfce0fbb1e386f"
  },
  {
   "cell_type": "code",
   "execution_count": null,
   "outputs": [],
   "source": [
    "\n"
   ],
   "metadata": {
    "collapsed": false,
    "ExecuteTime": {
     "start_time": "2024-09-16T07:57:44.049456100Z"
    }
   },
   "id": "56389bc0620798b2"
  },
  {
   "cell_type": "code",
   "execution_count": 33,
   "outputs": [],
   "source": [
    "from model import Model"
   ],
   "metadata": {
    "collapsed": false,
    "ExecuteTime": {
     "end_time": "2024-09-16T07:58:45.451357700Z",
     "start_time": "2024-09-16T07:58:45.431360100Z"
    }
   },
   "id": "a8f50fbce39c62ae"
  },
  {
   "cell_type": "code",
   "execution_count": 47,
   "outputs": [],
   "source": [
    "model = Model(input_size=1, hidden_size=30, output_size=1, output_len=4)"
   ],
   "metadata": {
    "collapsed": false,
    "ExecuteTime": {
     "end_time": "2024-09-16T08:00:37.192146600Z",
     "start_time": "2024-09-16T08:00:37.173150900Z"
    }
   },
   "id": "c8d677bc8d76b1a0"
  },
  {
   "cell_type": "code",
   "execution_count": 48,
   "outputs": [
    {
     "data": {
      "text/plain": "torch.Size([1000, 1])"
     },
     "execution_count": 48,
     "metadata": {},
     "output_type": "execute_result"
    }
   ],
   "source": [
    "ina = X[:, -1, :]\n",
    "ina.shape"
   ],
   "metadata": {
    "collapsed": false,
    "ExecuteTime": {
     "end_time": "2024-09-16T08:00:37.571211400Z",
     "start_time": "2024-09-16T08:00:37.551678900Z"
    }
   },
   "id": "6335f819a9932cef"
  },
  {
   "cell_type": "code",
   "execution_count": 49,
   "outputs": [
    {
     "data": {
      "text/plain": "torch.Size([1000, 4, 1])"
     },
     "execution_count": 49,
     "metadata": {},
     "output_type": "execute_result"
    }
   ],
   "source": [
    "X.shape"
   ],
   "metadata": {
    "collapsed": false,
    "ExecuteTime": {
     "end_time": "2024-09-16T08:00:37.883777100Z",
     "start_time": "2024-09-16T08:00:37.864251500Z"
    }
   },
   "id": "dbe4784ebb3daf02"
  },
  {
   "cell_type": "code",
   "execution_count": 50,
   "outputs": [
    {
     "name": "stdout",
     "output_type": "stream",
     "text": [
      "0\n",
      "1\n",
      "2\n",
      "3\n"
     ]
    }
   ],
   "source": [
    "result = model(X)"
   ],
   "metadata": {
    "collapsed": false,
    "ExecuteTime": {
     "end_time": "2024-09-16T08:00:38.216827800Z",
     "start_time": "2024-09-16T08:00:38.181832300Z"
    }
   },
   "id": "44b86046f253e173"
  },
  {
   "cell_type": "code",
   "execution_count": 53,
   "outputs": [
    {
     "data": {
      "text/plain": "torch.Size([1000, 4])"
     },
     "execution_count": 53,
     "metadata": {},
     "output_type": "execute_result"
    }
   ],
   "source": [
    "result.shape"
   ],
   "metadata": {
    "collapsed": false,
    "ExecuteTime": {
     "end_time": "2024-09-16T08:01:03.290393500Z",
     "start_time": "2024-09-16T08:01:03.273291400Z"
    }
   },
   "id": "89ab08f060ca4320"
  },
  {
   "cell_type": "code",
   "execution_count": 51,
   "outputs": [],
   "source": [],
   "metadata": {
    "collapsed": false,
    "ExecuteTime": {
     "end_time": "2024-09-16T08:00:39.171630700Z",
     "start_time": "2024-09-16T08:00:39.125981200Z"
    }
   },
   "id": "e0a9d03fc8787554"
  },
  {
   "cell_type": "code",
   "execution_count": null,
   "outputs": [],
   "source": [],
   "metadata": {
    "collapsed": false
   },
   "id": "39ed36a4ac5627a"
  }
 ],
 "metadata": {
  "kernelspec": {
   "display_name": "Python 3",
   "language": "python",
   "name": "python3"
  },
  "language_info": {
   "codemirror_mode": {
    "name": "ipython",
    "version": 2
   },
   "file_extension": ".py",
   "mimetype": "text/x-python",
   "name": "python",
   "nbconvert_exporter": "python",
   "pygments_lexer": "ipython2",
   "version": "2.7.6"
  }
 },
 "nbformat": 4,
 "nbformat_minor": 5
}
