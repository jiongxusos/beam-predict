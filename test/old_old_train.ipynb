{
 "cells": [
  {
   "cell_type": "code",
   "execution_count": 2,
   "id": "initial_id",
   "metadata": {
    "collapsed": true,
    "ExecuteTime": {
     "end_time": "2024-10-13T12:41:10.849356700Z",
     "start_time": "2024-10-13T12:41:10.603705700Z"
    }
   },
   "outputs": [],
   "source": [
    "import matplotlib.pyplot as plt\n",
    "\n",
    "import pyBeamSim\n",
    "import numpy as np\n",
    "import pandas as pd\n",
    "import torch\n",
    "import torch.nn as nn\n"
   ]
  },
  {
   "cell_type": "code",
   "execution_count": 3,
   "outputs": [
    {
     "data": {
      "text/plain": "     drift1_len  quad1_len  quad1_gra  drift2_len  quad2_len  quad2_gra  \\\n0      0.180365   0.142677   6.547704    0.225119   0.470313 -11.542837   \n1      0.432852   0.169020   6.902478    0.289684   0.324885  -3.967744   \n2      0.362458   0.471569 -12.758745    0.362968   0.284895 -14.773666   \n3      0.466958   0.285071  -1.812787    0.419730   0.220902  -3.831353   \n4      0.387841   0.265736   0.708887    0.271929   0.493496  -5.513117   \n..          ...        ...        ...         ...        ...        ...   \n995    0.302903   0.244454 -12.081781    0.204627   0.396996 -13.567693   \n996    0.186791   0.292417   7.818244    0.106194   0.355064   9.314740   \n997    0.370323   0.202365 -19.998472    0.463314   0.126357  -3.632991   \n998    0.474896   0.425611   7.057482    0.251108   0.434101  12.805979   \n999    0.413451   0.307800  10.150050    0.335033   0.322185  14.950860   \n\n           x_avg0    x_avg1        x_avg2    x_avg3    x_avg4  \n0   -2.582750e-09  0.000020 -1.334003e-06 -0.000014 -0.000038  \n1   -2.582750e-09  0.000031 -9.403697e-07 -0.000015 -0.000009  \n2   -2.582750e-09  0.000028 -1.458700e-06 -0.000608 -0.000334  \n3   -2.582750e-09  0.000029 -8.623525e-07 -0.000074 -0.000219  \n4   -2.582750e-09  0.000041 -2.424351e-06 -0.000107 -0.000205  \n..            ...       ...           ...       ...       ...  \n995 -2.582750e-09  0.000031  2.022189e-06  0.000107 -0.000076  \n996 -2.582750e-09  0.000021 -3.552524e-06 -0.000037 -0.000004  \n997 -2.582750e-09  0.000037 -3.015456e-06 -0.000358 -0.000127  \n998 -2.582750e-09  0.000029  7.783686e-09 -0.000100  0.000105  \n999 -2.582750e-09  0.000036  1.520921e-07 -0.000042  0.000021  \n\n[1000 rows x 11 columns]",
      "text/html": "<div>\n<style scoped>\n    .dataframe tbody tr th:only-of-type {\n        vertical-align: middle;\n    }\n\n    .dataframe tbody tr th {\n        vertical-align: top;\n    }\n\n    .dataframe thead th {\n        text-align: right;\n    }\n</style>\n<table border=\"1\" class=\"dataframe\">\n  <thead>\n    <tr style=\"text-align: right;\">\n      <th></th>\n      <th>drift1_len</th>\n      <th>quad1_len</th>\n      <th>quad1_gra</th>\n      <th>drift2_len</th>\n      <th>quad2_len</th>\n      <th>quad2_gra</th>\n      <th>x_avg0</th>\n      <th>x_avg1</th>\n      <th>x_avg2</th>\n      <th>x_avg3</th>\n      <th>x_avg4</th>\n    </tr>\n  </thead>\n  <tbody>\n    <tr>\n      <th>0</th>\n      <td>0.180365</td>\n      <td>0.142677</td>\n      <td>6.547704</td>\n      <td>0.225119</td>\n      <td>0.470313</td>\n      <td>-11.542837</td>\n      <td>-2.582750e-09</td>\n      <td>0.000020</td>\n      <td>-1.334003e-06</td>\n      <td>-0.000014</td>\n      <td>-0.000038</td>\n    </tr>\n    <tr>\n      <th>1</th>\n      <td>0.432852</td>\n      <td>0.169020</td>\n      <td>6.902478</td>\n      <td>0.289684</td>\n      <td>0.324885</td>\n      <td>-3.967744</td>\n      <td>-2.582750e-09</td>\n      <td>0.000031</td>\n      <td>-9.403697e-07</td>\n      <td>-0.000015</td>\n      <td>-0.000009</td>\n    </tr>\n    <tr>\n      <th>2</th>\n      <td>0.362458</td>\n      <td>0.471569</td>\n      <td>-12.758745</td>\n      <td>0.362968</td>\n      <td>0.284895</td>\n      <td>-14.773666</td>\n      <td>-2.582750e-09</td>\n      <td>0.000028</td>\n      <td>-1.458700e-06</td>\n      <td>-0.000608</td>\n      <td>-0.000334</td>\n    </tr>\n    <tr>\n      <th>3</th>\n      <td>0.466958</td>\n      <td>0.285071</td>\n      <td>-1.812787</td>\n      <td>0.419730</td>\n      <td>0.220902</td>\n      <td>-3.831353</td>\n      <td>-2.582750e-09</td>\n      <td>0.000029</td>\n      <td>-8.623525e-07</td>\n      <td>-0.000074</td>\n      <td>-0.000219</td>\n    </tr>\n    <tr>\n      <th>4</th>\n      <td>0.387841</td>\n      <td>0.265736</td>\n      <td>0.708887</td>\n      <td>0.271929</td>\n      <td>0.493496</td>\n      <td>-5.513117</td>\n      <td>-2.582750e-09</td>\n      <td>0.000041</td>\n      <td>-2.424351e-06</td>\n      <td>-0.000107</td>\n      <td>-0.000205</td>\n    </tr>\n    <tr>\n      <th>...</th>\n      <td>...</td>\n      <td>...</td>\n      <td>...</td>\n      <td>...</td>\n      <td>...</td>\n      <td>...</td>\n      <td>...</td>\n      <td>...</td>\n      <td>...</td>\n      <td>...</td>\n      <td>...</td>\n    </tr>\n    <tr>\n      <th>995</th>\n      <td>0.302903</td>\n      <td>0.244454</td>\n      <td>-12.081781</td>\n      <td>0.204627</td>\n      <td>0.396996</td>\n      <td>-13.567693</td>\n      <td>-2.582750e-09</td>\n      <td>0.000031</td>\n      <td>2.022189e-06</td>\n      <td>0.000107</td>\n      <td>-0.000076</td>\n    </tr>\n    <tr>\n      <th>996</th>\n      <td>0.186791</td>\n      <td>0.292417</td>\n      <td>7.818244</td>\n      <td>0.106194</td>\n      <td>0.355064</td>\n      <td>9.314740</td>\n      <td>-2.582750e-09</td>\n      <td>0.000021</td>\n      <td>-3.552524e-06</td>\n      <td>-0.000037</td>\n      <td>-0.000004</td>\n    </tr>\n    <tr>\n      <th>997</th>\n      <td>0.370323</td>\n      <td>0.202365</td>\n      <td>-19.998472</td>\n      <td>0.463314</td>\n      <td>0.126357</td>\n      <td>-3.632991</td>\n      <td>-2.582750e-09</td>\n      <td>0.000037</td>\n      <td>-3.015456e-06</td>\n      <td>-0.000358</td>\n      <td>-0.000127</td>\n    </tr>\n    <tr>\n      <th>998</th>\n      <td>0.474896</td>\n      <td>0.425611</td>\n      <td>7.057482</td>\n      <td>0.251108</td>\n      <td>0.434101</td>\n      <td>12.805979</td>\n      <td>-2.582750e-09</td>\n      <td>0.000029</td>\n      <td>7.783686e-09</td>\n      <td>-0.000100</td>\n      <td>0.000105</td>\n    </tr>\n    <tr>\n      <th>999</th>\n      <td>0.413451</td>\n      <td>0.307800</td>\n      <td>10.150050</td>\n      <td>0.335033</td>\n      <td>0.322185</td>\n      <td>14.950860</td>\n      <td>-2.582750e-09</td>\n      <td>0.000036</td>\n      <td>1.520921e-07</td>\n      <td>-0.000042</td>\n      <td>0.000021</td>\n    </tr>\n  </tbody>\n</table>\n<p>1000 rows × 11 columns</p>\n</div>"
     },
     "execution_count": 3,
     "metadata": {},
     "output_type": "execute_result"
    }
   ],
   "source": [
    "df = pd.read_csv('data/data.csv', index_col=0)\n",
    "df"
   ],
   "metadata": {
    "collapsed": false,
    "ExecuteTime": {
     "end_time": "2024-10-13T12:41:11.370320100Z",
     "start_time": "2024-10-13T12:41:10.615219300Z"
    }
   },
   "id": "f4b27b62ca22d647"
  },
  {
   "cell_type": "markdown",
   "source": [
    "### data analysis"
   ],
   "metadata": {
    "collapsed": false
   },
   "id": "70e8f63de1699fc1"
  },
  {
   "cell_type": "code",
   "execution_count": 3,
   "outputs": [],
   "source": [],
   "metadata": {
    "collapsed": false,
    "ExecuteTime": {
     "end_time": "2024-10-13T12:41:11.444637100Z",
     "start_time": "2024-10-13T12:41:10.660801800Z"
    }
   },
   "id": "fd477808dab52676"
  },
  {
   "cell_type": "markdown",
   "source": [
    "### Dataset and DataLoader"
   ],
   "metadata": {
    "collapsed": false
   },
   "id": "ba4d4f7f716c8b26"
  },
  {
   "cell_type": "code",
   "execution_count": 4,
   "outputs": [],
   "source": [
    "# hyperparams\n",
    "\n",
    "input_size = 1\n",
    "hidden_size = 30\n",
    "output_size = 1\n",
    "output_len = 4\n",
    "\n",
    "num_epochs = 100\n",
    "learning_rate = 0.001\n"
   ],
   "metadata": {
    "collapsed": false,
    "ExecuteTime": {
     "end_time": "2024-10-13T12:41:11.528418600Z",
     "start_time": "2024-10-13T12:41:10.676842900Z"
    }
   },
   "id": "cf32c7c118fba156"
  },
  {
   "cell_type": "code",
   "execution_count": 5,
   "outputs": [],
   "source": [
    "# last 4 columns as y_true\n",
    "X = df.iloc[:, :-4]\n",
    "y = df.iloc[:, -4:]\n",
    "# transform df into tensor\n",
    "X = torch.Tensor(X.values).unsqueeze(2) # add a dim: input_size\n",
    "y = torch.Tensor(y.values)\n",
    "from sklearn.model_selection import train_test_split\n",
    "X_train, X_test, y_train, y_test = train_test_split(X, y, test_size=0.2) "
   ],
   "metadata": {
    "collapsed": false,
    "ExecuteTime": {
     "end_time": "2024-10-13T12:41:11.780995600Z",
     "start_time": "2024-10-13T12:41:10.693697900Z"
    }
   },
   "id": "24d2c51200b1bf1f"
  },
  {
   "cell_type": "code",
   "execution_count": 6,
   "outputs": [
    {
     "name": "stdout",
     "output_type": "stream",
     "text": [
      "y_train.shape: torch.Size([800, 4])\n",
      "X_train.shape: torch.Size([800, 7, 1])\n"
     ]
    }
   ],
   "source": [
    "print(f'y_train.shape: {y_train.shape}')\n",
    "print(f'X_train.shape: {X_train.shape}')"
   ],
   "metadata": {
    "collapsed": false,
    "ExecuteTime": {
     "end_time": "2024-10-13T12:41:11.783010300Z",
     "start_time": "2024-10-13T12:41:10.949559500Z"
    }
   },
   "id": "f3f153e4be57fcd1"
  },
  {
   "cell_type": "code",
   "execution_count": 7,
   "outputs": [],
   "source": [
    "from torch.utils.data import TensorDataset, DataLoader\n",
    "batch_size = 8\n",
    "\n",
    "# generate dataset and dataloader\n",
    "train_dataset = TensorDataset(X_train, y_train)\n",
    "train_loader = DataLoader(dataset=train_dataset, batch_size=batch_size, shuffle=True)\n",
    "\n",
    "test_dataset = TensorDataset(X_test, y_test)\n",
    "test_loader = DataLoader(test_dataset, batch_size, shuffle=False)"
   ],
   "metadata": {
    "collapsed": false,
    "ExecuteTime": {
     "end_time": "2024-10-13T12:41:11.784006600Z",
     "start_time": "2024-10-13T12:41:10.966598600Z"
    }
   },
   "id": "f5362a40715fed94"
  },
  {
   "cell_type": "code",
   "execution_count": 8,
   "outputs": [
    {
     "data": {
      "text/plain": "(tensor([[ 1.7973e-01],\n         [ 4.0641e-01],\n         [-4.2190e+00],\n         [ 1.7880e-01],\n         [ 4.3545e-01],\n         [ 1.0347e-01],\n         [-2.5827e-09]]),\n tensor([ 2.0317e-05,  1.2282e-06,  4.8297e-05, -3.5154e-05]))"
     },
     "execution_count": 8,
     "metadata": {},
     "output_type": "execute_result"
    }
   ],
   "source": [
    "train_dataset[0]"
   ],
   "metadata": {
    "collapsed": false,
    "ExecuteTime": {
     "end_time": "2024-10-13T12:41:11.821070700Z",
     "start_time": "2024-10-13T12:41:10.980544600Z"
    }
   },
   "id": "e3e3c6eb97551e5c"
  },
  {
   "cell_type": "code",
   "execution_count": 9,
   "outputs": [
    {
     "name": "stdout",
     "output_type": "stream",
     "text": [
      "torch.Size([8, 7, 1])\n",
      "torch.Size([8, 4])\n"
     ]
    }
   ],
   "source": [
    "for i, (a, b) in enumerate(train_loader):\n",
    "    print(a.shape)\n",
    "    print(b.shape)\n",
    "    if i ==0:\n",
    "        break"
   ],
   "metadata": {
    "collapsed": false,
    "ExecuteTime": {
     "end_time": "2024-10-13T12:41:11.822073800Z",
     "start_time": "2024-10-13T12:41:10.996070500Z"
    }
   },
   "id": "103d879083b91e3f"
  },
  {
   "cell_type": "markdown",
   "source": [
    "### train"
   ],
   "metadata": {
    "collapsed": false
   },
   "id": "5db124b6388fe0ad"
  },
  {
   "cell_type": "code",
   "execution_count": 10,
   "outputs": [],
   "source": [
    "import torch.optim as optim\n",
    "from model import Model, Model2, MLP\n",
    "\n",
    "device = torch.device('cuda') if torch.cuda.is_available() else torch.device('cpu')\n",
    "# criterion = nn.MSELoss()\n",
    "criterion = nn.L1Loss()\n",
    "# test_criterion = nn.MSELoss(reduction='sum')"
   ],
   "metadata": {
    "collapsed": false,
    "ExecuteTime": {
     "end_time": "2024-10-13T12:41:11.823070800Z",
     "start_time": "2024-10-13T12:41:11.010090600Z"
    }
   },
   "id": "1506f4517d2404c1"
  },
  {
   "cell_type": "code",
   "execution_count": 11,
   "outputs": [],
   "source": [
    "# time-series, not accuracy, but mse instead.\n",
    "def val_acc(ml, val_loader, device):\n",
    "    ml.eval()\n",
    "    total_acc = 0\n",
    "    with torch.no_grad():\n",
    "        if isinstance(ml, Model):\n",
    "            for X_test, y_test in val_loader:\n",
    "                X_test = X_test.to(device)\n",
    "                y_test = y_test.to(device)\n",
    "                y_pred = ml(X_test)\n",
    "                # test_criterion = nn.MSELoss(reduction='sum')\n",
    "                test_criterion = nn.L1Loss()\n",
    "                acc = test_criterion(y_pred, y_test)\n",
    "                total_acc += acc\n",
    "        elif isinstance(ml, Model2):\n",
    "             for X_test, y_test in val_loader:\n",
    "                X_test = X_test.to(device)\n",
    "                y_test = y_test.to(device)\n",
    "                y_pred = ml(X_test, y[:, :1])\n",
    "                test_criterion = nn.L1Loss()\n",
    "                acc = test_criterion(y_pred, y[:, 1:])\n",
    "                total_acc += acc\n",
    "        elif isinstance(ml, MLP):\n",
    "            for X_test, y_test in val_loader:\n",
    "                X_test = X_test.squeeze(2).to(device)\n",
    "                y_test = y_test.to(device)\n",
    "                y_pred = ml(X_test)\n",
    "                test_criterion = nn.L1Loss()\n",
    "                acc = test_criterion(y_pred, y_test)\n",
    "                total_acc += acc\n",
    "        else:\n",
    "            for X_test, y_test in val_loader:\n",
    "                X_test = X_test.squeeze(2).to(device)\n",
    "                y_test = y_test.to(device)\n",
    "                y_pred = ml(X_test)\n",
    "                test_criterion = nn.L1Loss()\n",
    "                acc = test_criterion(y_pred, y_test)\n",
    "                total_acc += acc\n",
    "    return total_acc\n",
    "\n",
    "def get_mape(tensor_true, tensor_pred):\n",
    "    return torch.mean(torch.abs((tensor_pred - tensor_true) / tensor_true)) * 100"
   ],
   "metadata": {
    "collapsed": false,
    "ExecuteTime": {
     "end_time": "2024-10-13T12:41:11.825071Z",
     "start_time": "2024-10-13T12:41:11.082106300Z"
    }
   },
   "id": "e4ec8077c860c51e"
  },
  {
   "cell_type": "code",
   "execution_count": 12,
   "outputs": [
    {
     "name": "stdout",
     "output_type": "stream",
     "text": [
      "the training is using cuda\n",
      "epoch1: loss: 0.659498\n",
      "epoch2: loss: 0.078014\n",
      "epoch3: loss: 0.064881\n",
      "epoch4: loss: 0.064559\n",
      "epoch5: loss: 0.042303\n",
      "epoch6: loss: 0.068283\n",
      "epoch7: loss: 0.055768\n",
      "epoch8: loss: 0.055927\n",
      "epoch9: loss: 0.049856\n",
      "epoch10: loss: 0.043746\n",
      "epoch11: loss: 0.045946\n",
      "epoch12: loss: 0.032973\n",
      "epoch13: loss: 0.034901\n",
      "epoch14: loss: 0.031623\n",
      "epoch15: loss: 0.039698\n",
      "epoch16: loss: 0.032471\n",
      "epoch17: loss: 0.033845\n",
      "epoch18: loss: 0.051535\n",
      "epoch19: loss: 0.033286\n",
      "epoch20: loss: 0.027669\n",
      "epoch21: loss: 0.037588\n",
      "epoch22: loss: 0.031303\n",
      "epoch23: loss: 0.036431\n",
      "epoch24: loss: 0.036293\n",
      "epoch25: loss: 0.029444\n",
      "epoch26: loss: 0.029561\n",
      "epoch27: loss: 0.024341\n",
      "epoch28: loss: 0.048211\n",
      "epoch29: loss: 0.034623\n",
      "epoch30: loss: 0.036399\n",
      "epoch31: loss: 0.025907\n",
      "epoch32: loss: 0.032927\n",
      "epoch33: loss: 0.032352\n",
      "epoch34: loss: 0.021087\n",
      "epoch35: loss: 0.028468\n",
      "epoch36: loss: 0.027587\n",
      "epoch37: loss: 0.025915\n",
      "epoch38: loss: 0.023477\n",
      "epoch39: loss: 0.028274\n",
      "epoch40: loss: 0.023235\n",
      "epoch41: loss: 0.019624\n",
      "epoch42: loss: 0.024404\n",
      "epoch43: loss: 0.025660\n",
      "epoch44: loss: 0.022369\n",
      "epoch45: loss: 0.032207\n",
      "epoch46: loss: 0.021160\n",
      "epoch47: loss: 0.020178\n",
      "epoch48: loss: 0.021801\n",
      "epoch49: loss: 0.020217\n",
      "epoch50: loss: 0.019157\n",
      "epoch51: loss: 0.025740\n",
      "epoch52: loss: 0.023984\n",
      "epoch53: loss: 0.023728\n",
      "epoch54: loss: 0.023872\n",
      "epoch55: loss: 0.021018\n",
      "epoch56: loss: 0.024768\n",
      "epoch57: loss: 0.020579\n",
      "epoch58: loss: 0.019636\n",
      "epoch59: loss: 0.026239\n",
      "epoch60: loss: 0.021517\n",
      "epoch61: loss: 0.019877\n",
      "epoch62: loss: 0.022363\n",
      "epoch63: loss: 0.021655\n",
      "epoch64: loss: 0.021974\n",
      "epoch65: loss: 0.025859\n",
      "epoch66: loss: 0.019317\n",
      "epoch67: loss: 0.020240\n",
      "epoch68: loss: 0.017993\n",
      "epoch69: loss: 0.019934\n",
      "epoch70: loss: 0.019967\n",
      "epoch71: loss: 0.022066\n",
      "epoch72: loss: 0.019269\n",
      "epoch73: loss: 0.018126\n",
      "epoch74: loss: 0.023789\n",
      "epoch75: loss: 0.021309\n",
      "epoch76: loss: 0.021112\n",
      "epoch77: loss: 0.016120\n",
      "epoch78: loss: 0.018753\n",
      "epoch79: loss: 0.017837\n",
      "epoch80: loss: 0.025618\n",
      "epoch81: loss: 0.022511\n",
      "epoch82: loss: 0.016073\n",
      "epoch83: loss: 0.017447\n",
      "epoch84: loss: 0.020613\n",
      "epoch85: loss: 0.019693\n",
      "epoch86: loss: 0.022336\n",
      "epoch87: loss: 0.024993\n",
      "epoch88: loss: 0.018064\n",
      "epoch89: loss: 0.020072\n",
      "epoch90: loss: 0.018997\n",
      "epoch91: loss: 0.017013\n",
      "epoch92: loss: 0.017917\n",
      "epoch93: loss: 0.018911\n",
      "epoch94: loss: 0.021067\n",
      "epoch95: loss: 0.014046\n",
      "epoch96: loss: 0.016914\n",
      "epoch97: loss: 0.016539\n",
      "epoch98: loss: 0.017025\n",
      "epoch99: loss: 0.017647\n",
      "epoch100: loss: 0.016513\n"
     ]
    }
   ],
   "source": [
    "# device = torch.device('cpu')    # cpu train succeed\n",
    "# Model\n",
    "model = Model(input_size, hidden_size, output_size, output_len, device)\n",
    "model.to(device)\n",
    "\n",
    "optimizer = optim.Adam(model.parameters(), lr=learning_rate)\n",
    "\n",
    "# now cpu\n",
    "losses = []\n",
    "test_accuracies = []\n",
    "\n",
    "# add model before training\n",
    "test_acc = val_acc(model, val_loader=test_loader, device=device)\n",
    "test_accuracies.append(test_acc.cpu().numpy())\n",
    "\n",
    "for epoch in range(num_epochs):\n",
    "    if epoch == 0:\n",
    "        print(f'the training is using {device}')\n",
    "    model.train()\n",
    "    total_loss = 0\n",
    "    for X, y in train_loader:\n",
    "        X = X.to(device)\n",
    "        y = y.to(device)\n",
    "        y_pred = model(X)\n",
    "        loss = criterion(y_pred, y)\n",
    "        total_loss += loss\n",
    "        # backward\n",
    "        optimizer.zero_grad()\n",
    "        loss.backward()\n",
    "        optimizer.step()\n",
    "        \n",
    "    test_acc = val_acc(model, val_loader=test_loader, device=device)\n",
    "    test_accuracies.append(test_acc.cpu().numpy())\n",
    "    losses.append(total_loss.cpu().detach().numpy())\n",
    "    print(f'epoch{epoch+1}: loss: {total_loss:8f}')"
   ],
   "metadata": {
    "collapsed": false,
    "ExecuteTime": {
     "end_time": "2024-10-13T12:42:42.988564Z",
     "start_time": "2024-10-13T12:41:11.108160Z"
    }
   },
   "id": "b0f7b542903346db"
  },
  {
   "cell_type": "code",
   "execution_count": 13,
   "outputs": [
    {
     "name": "stdout",
     "output_type": "stream",
     "text": [
      "the training is using cuda\n",
      "epoch1: loss: 1.397376\n",
      "epoch2: loss: 0.093132\n",
      "epoch3: loss: 0.072523\n",
      "epoch4: loss: 0.063752\n",
      "epoch5: loss: 0.091133\n",
      "epoch6: loss: 0.075553\n",
      "epoch7: loss: 0.078226\n",
      "epoch8: loss: 0.053052\n",
      "epoch9: loss: 0.052530\n",
      "epoch10: loss: 0.092543\n",
      "epoch11: loss: 0.058331\n",
      "epoch12: loss: 0.061346\n",
      "epoch13: loss: 0.053452\n",
      "epoch14: loss: 0.063914\n",
      "epoch15: loss: 0.104482\n",
      "epoch16: loss: 0.050067\n",
      "epoch17: loss: 0.041852\n",
      "epoch18: loss: 0.057323\n",
      "epoch19: loss: 0.046425\n",
      "epoch20: loss: 0.061201\n",
      "epoch21: loss: 0.054621\n",
      "epoch22: loss: 0.062408\n",
      "epoch23: loss: 0.048675\n",
      "epoch24: loss: 0.051405\n",
      "epoch25: loss: 0.047862\n",
      "epoch26: loss: 0.047203\n",
      "epoch27: loss: 0.046961\n",
      "epoch28: loss: 0.045262\n",
      "epoch29: loss: 0.040719\n",
      "epoch30: loss: 0.040185\n",
      "epoch31: loss: 0.044334\n",
      "epoch32: loss: 0.040629\n",
      "epoch33: loss: 0.040681\n",
      "epoch34: loss: 0.047959\n",
      "epoch35: loss: 0.052981\n",
      "epoch36: loss: 0.043693\n",
      "epoch37: loss: 0.036004\n",
      "epoch38: loss: 0.028866\n",
      "epoch39: loss: 0.034889\n",
      "epoch40: loss: 0.037768\n",
      "epoch41: loss: 0.030532\n",
      "epoch42: loss: 0.040509\n",
      "epoch43: loss: 0.030577\n",
      "epoch44: loss: 0.033299\n",
      "epoch45: loss: 0.030245\n",
      "epoch46: loss: 0.045535\n",
      "epoch47: loss: 0.038620\n",
      "epoch48: loss: 0.026444\n",
      "epoch49: loss: 0.034986\n",
      "epoch50: loss: 0.033920\n",
      "epoch51: loss: 0.025369\n",
      "epoch52: loss: 0.027674\n",
      "epoch53: loss: 0.028312\n",
      "epoch54: loss: 0.038594\n",
      "epoch55: loss: 0.029330\n",
      "epoch56: loss: 0.039704\n",
      "epoch57: loss: 0.030115\n",
      "epoch58: loss: 0.038855\n",
      "epoch59: loss: 0.034351\n",
      "epoch60: loss: 0.040990\n",
      "epoch61: loss: 0.028532\n",
      "epoch62: loss: 0.027835\n",
      "epoch63: loss: 0.036954\n",
      "epoch64: loss: 0.027444\n",
      "epoch65: loss: 0.031208\n",
      "epoch66: loss: 0.032019\n",
      "epoch67: loss: 0.032469\n",
      "epoch68: loss: 0.033100\n",
      "epoch69: loss: 0.026875\n",
      "epoch70: loss: 0.029710\n",
      "epoch71: loss: 0.030334\n",
      "epoch72: loss: 0.030682\n",
      "epoch73: loss: 0.023017\n",
      "epoch74: loss: 0.025113\n",
      "epoch75: loss: 0.028461\n",
      "epoch76: loss: 0.030908\n",
      "epoch77: loss: 0.033249\n",
      "epoch78: loss: 0.024274\n",
      "epoch79: loss: 0.028427\n",
      "epoch80: loss: 0.033279\n",
      "epoch81: loss: 0.029984\n",
      "epoch82: loss: 0.036699\n",
      "epoch83: loss: 0.028191\n",
      "epoch84: loss: 0.031361\n",
      "epoch85: loss: 0.028481\n",
      "epoch86: loss: 0.024723\n",
      "epoch87: loss: 0.022350\n",
      "epoch88: loss: 0.029526\n",
      "epoch89: loss: 0.026195\n",
      "epoch90: loss: 0.024558\n",
      "epoch91: loss: 0.035831\n",
      "epoch92: loss: 0.034313\n",
      "epoch93: loss: 0.031334\n",
      "epoch94: loss: 0.037655\n",
      "epoch95: loss: 0.024611\n",
      "epoch96: loss: 0.024547\n",
      "epoch97: loss: 0.031596\n",
      "epoch98: loss: 0.023639\n",
      "epoch99: loss: 0.026585\n",
      "epoch100: loss: 0.025122\n"
     ]
    }
   ],
   "source": [
    "# Model2\n",
    "model2 = Model2(input_size, hidden_size, output_size, output_len)\n",
    "model2.to(device)\n",
    "\n",
    "optimizer = optim.Adam(model2.parameters(), lr=learning_rate)\n",
    "\n",
    "# now cpu\n",
    "losses2 = []\n",
    "test_accuracies2 = []\n",
    "test_acc = val_acc(model2, val_loader=test_loader, device=device)\n",
    "test_accuracies2.append(test_acc.cpu().numpy())\n",
    "\n",
    "for epoch in range(num_epochs):\n",
    "    if epoch == 0:\n",
    "        print(f'the training is using {device}')\n",
    "    model2.train()\n",
    "    total_loss = 0\n",
    "    for X, y in train_loader:\n",
    "        X = X.to(device)\n",
    "        y = y.to(device) # two-dim tensor\n",
    "        y_pred = model2(X, y[:, :1])\n",
    "        loss = criterion(y_pred, y[:, 1:])\n",
    "        total_loss += loss\n",
    "        # backward\n",
    "        optimizer.zero_grad()\n",
    "        loss.backward()\n",
    "        optimizer.step()\n",
    "        \n",
    "    test_acc = val_acc(model2, val_loader=test_loader, device=device)\n",
    "    test_accuracies2.append(test_acc.cpu().numpy())\n",
    "    losses2.append(total_loss.cpu().detach().numpy()) # to cpu to plot\n",
    "    print(f'epoch{epoch+1}: loss: {total_loss:.8f}')"
   ],
   "metadata": {
    "collapsed": false,
    "ExecuteTime": {
     "end_time": "2024-10-13T12:43:58.212079700Z",
     "start_time": "2024-10-13T12:42:42.984556100Z"
    }
   },
   "id": "18d90354ba23381f"
  },
  {
   "cell_type": "code",
   "execution_count": 14,
   "outputs": [
    {
     "name": "stdout",
     "output_type": "stream",
     "text": [
      "the training is using cuda\n",
      "epoch1: loss: 14.554315\n",
      "epoch2: loss: 1.513187\n",
      "epoch3: loss: 1.496991\n",
      "epoch4: loss: 1.530676\n",
      "epoch5: loss: 1.524736\n",
      "epoch6: loss: 1.523342\n",
      "epoch7: loss: 1.515207\n",
      "epoch8: loss: 1.505435\n",
      "epoch9: loss: 1.492980\n",
      "epoch10: loss: 1.527834\n",
      "epoch11: loss: 1.523467\n",
      "epoch12: loss: 1.522135\n",
      "epoch13: loss: 1.514188\n",
      "epoch14: loss: 1.504977\n",
      "epoch15: loss: 1.492699\n",
      "epoch16: loss: 1.527471\n",
      "epoch17: loss: 1.522907\n",
      "epoch18: loss: 1.521888\n",
      "epoch19: loss: 1.514061\n",
      "epoch20: loss: 1.504707\n",
      "epoch21: loss: 1.492366\n",
      "epoch22: loss: 1.526745\n",
      "epoch23: loss: 1.522592\n",
      "epoch24: loss: 1.521875\n",
      "epoch25: loss: 1.513100\n",
      "epoch26: loss: 1.504349\n",
      "epoch27: loss: 1.492073\n",
      "epoch28: loss: 1.527184\n",
      "epoch29: loss: 1.522942\n",
      "epoch30: loss: 1.521660\n",
      "epoch31: loss: 1.513329\n",
      "epoch32: loss: 1.504685\n",
      "epoch33: loss: 1.492010\n",
      "epoch34: loss: 1.526895\n",
      "epoch35: loss: 1.522949\n",
      "epoch36: loss: 1.521818\n",
      "epoch37: loss: 1.513214\n",
      "epoch38: loss: 1.504266\n",
      "epoch39: loss: 1.491859\n",
      "epoch40: loss: 1.527050\n",
      "epoch41: loss: 1.522654\n",
      "epoch42: loss: 1.521416\n",
      "epoch43: loss: 1.513805\n",
      "epoch44: loss: 1.504791\n",
      "epoch45: loss: 1.491985\n",
      "epoch46: loss: 1.526827\n",
      "epoch47: loss: 1.522460\n",
      "epoch48: loss: 1.521726\n",
      "epoch49: loss: 1.514120\n",
      "epoch50: loss: 1.504979\n",
      "epoch51: loss: 1.491943\n",
      "epoch52: loss: 1.526743\n",
      "epoch53: loss: 1.522680\n",
      "epoch54: loss: 1.521264\n",
      "epoch55: loss: 1.513580\n",
      "epoch56: loss: 1.504181\n",
      "epoch57: loss: 1.492180\n",
      "epoch58: loss: 1.527257\n",
      "epoch59: loss: 1.522606\n",
      "epoch60: loss: 1.521366\n",
      "epoch61: loss: 1.513970\n",
      "epoch62: loss: 1.504830\n",
      "epoch63: loss: 1.491674\n",
      "epoch64: loss: 1.526885\n",
      "epoch65: loss: 1.522744\n",
      "epoch66: loss: 1.521136\n",
      "epoch67: loss: 1.513671\n",
      "epoch68: loss: 1.504401\n",
      "epoch69: loss: 1.492085\n",
      "epoch70: loss: 1.527034\n",
      "epoch71: loss: 1.522494\n",
      "epoch72: loss: 1.521337\n",
      "epoch73: loss: 1.513568\n",
      "epoch74: loss: 1.504981\n",
      "epoch75: loss: 1.491918\n",
      "epoch76: loss: 1.527117\n",
      "epoch77: loss: 1.522710\n",
      "epoch78: loss: 1.521275\n",
      "epoch79: loss: 1.513584\n",
      "epoch80: loss: 1.504342\n",
      "epoch81: loss: 1.491873\n",
      "epoch82: loss: 1.527110\n",
      "epoch83: loss: 1.522478\n",
      "epoch84: loss: 1.521397\n",
      "epoch85: loss: 1.513528\n",
      "epoch86: loss: 1.504022\n",
      "epoch87: loss: 1.492005\n",
      "epoch88: loss: 10.548571\n",
      "epoch89: loss: 16.668846\n",
      "epoch90: loss: 1.160718\n",
      "epoch91: loss: 1.483788\n",
      "epoch92: loss: 1.059086\n",
      "epoch93: loss: 1.269756\n",
      "epoch94: loss: 1.320252\n",
      "epoch95: loss: 1.342968\n",
      "epoch96: loss: 1.403064\n",
      "epoch97: loss: 1.324613\n",
      "epoch98: loss: 1.309960\n",
      "epoch99: loss: 1.320544\n",
      "epoch100: loss: 1.304465\n"
     ]
    }
   ],
   "source": [
    "# MLP\n",
    "#mlp = MLP(input_size=6)\n",
    "mlp = nn.Sequential(nn.Linear(7, 32),\n",
    "                    nn.ReLU(),\n",
    "                    nn.Dropout(0.1),\n",
    "                    nn.Linear(32, 64),\n",
    "                    nn.ReLU(),\n",
    "                    nn.Dropout(0.1),\n",
    "                    nn.Linear(64, 32),\n",
    "                    nn.ReLU(),\n",
    "                    nn.Dropout(0.1),\n",
    "                    nn.Linear(32, 16),\n",
    "                    nn.ReLU(),\n",
    "                    nn.Dropout(0.1),\n",
    "                    nn.Linear(16, 4),\n",
    "                    )\n",
    "mlp.to(device)\n",
    "\n",
    "optimizer = optim.Adam(mlp.parameters(), lr=0.1)\n",
    "\n",
    "losses3 = []\n",
    "test_accuracies3 = []\n",
    "test_acc = val_acc(mlp, val_loader=test_loader, device=device)\n",
    "test_accuracies3.append(test_acc.cpu().numpy())\n",
    "\n",
    "for epoch in range(num_epochs):\n",
    "    if epoch == 0:\n",
    "        print(f'the training is using {device}')\n",
    "    mlp.train()\n",
    "    total_loss = 0\n",
    "    for X, y in train_loader:\n",
    "        X = X.squeeze(2).to(device)\n",
    "        y = y.to(device) # two-dim tensor\n",
    "        y_pred = mlp(X)\n",
    "        loss = criterion(y_pred, y)\n",
    "        total_loss += loss\n",
    "        # backward\n",
    "        optimizer.zero_grad()\n",
    "        loss.backward()\n",
    "        optimizer.step()\n",
    "        \n",
    "    test_acc = val_acc(mlp, val_loader=test_loader, device=device)\n",
    "    test_accuracies3.append(test_acc.cpu().numpy())\n",
    "    losses3.append(total_loss.cpu().detach().numpy()) # to cpu to plot\n",
    "    print(f'epoch{epoch+1}: loss: {total_loss:.8f}')\n"
   ],
   "metadata": {
    "collapsed": false,
    "ExecuteTime": {
     "end_time": "2024-10-13T12:44:53.536512300Z",
     "start_time": "2024-10-13T12:43:58.212079700Z"
    }
   },
   "id": "2efdcbd0b04ef08e"
  },
  {
   "cell_type": "code",
   "execution_count": 15,
   "outputs": [],
   "source": [
    "from torchsummary import summary\n",
    "# summary(model, (1, 2), batch_size)\n",
    "torch.save(model2.state_dict(), 'model_save/LSTM2.pth')"
   ],
   "metadata": {
    "collapsed": false,
    "ExecuteTime": {
     "end_time": "2024-10-13T12:44:53.572378100Z",
     "start_time": "2024-10-13T12:44:53.534350800Z"
    }
   },
   "id": "4ab207d75d20ce30"
  },
  {
   "cell_type": "markdown",
   "source": [
    "### loss and acc(sum mse here) curve\n",
    "MSEloss~acc "
   ],
   "metadata": {
    "collapsed": false
   },
   "id": "405e975c6231d32d"
  },
  {
   "cell_type": "code",
   "execution_count": 16,
   "outputs": [
    {
     "data": {
      "text/plain": "<matplotlib.legend.Legend at 0x2357607bd90>"
     },
     "execution_count": 16,
     "metadata": {},
     "output_type": "execute_result"
    },
    {
     "data": {
      "text/plain": "<Figure size 640x480 with 1 Axes>",
      "image/png": "[encoded data removed]"
     },
     "metadata": {},
     "output_type": "display_data"
    }
   ],
   "source": [
    "# Use tensor.detach().numpy()\n",
    "plt.title(\"train_loss for models\")\n",
    "plt.plot(losses, label=\"model\")\n",
    "plt.plot(losses2, label=\"model2\")\n",
    "plt.xlabel('epoch')\n",
    "plt.ylabel('train_loss')\n",
    "plt.legend()"
   ],
   "metadata": {
    "collapsed": false,
    "ExecuteTime": {
     "end_time": "2024-10-13T12:44:53.839616900Z",
     "start_time": "2024-10-13T12:44:53.563174700Z"
    }
   },
   "id": "fd56e47c40d44026"
  },
  {
   "cell_type": "code",
   "execution_count": 17,
   "outputs": [
    {
     "data": {
      "text/plain": "<matplotlib.legend.Legend at 0x2357607b490>"
     },
     "execution_count": 17,
     "metadata": {},
     "output_type": "execute_result"
    },
    {
     "data": {
      "text/plain": "<Figure size 640x480 with 1 Axes>",
      "image/png": "[encoded data removed]"
     },
     "metadata": {},
     "output_type": "display_data"
    }
   ],
   "source": [
    "plt.title(\"test_acc for models\")\n",
    "plt.xlabel(\"epoch\")\n",
    "plt.ylabel(\"test_acc\")\n",
    "plt.plot(test_accuracies, label=\"model\")\n",
    "plt.plot(test_accuracies2, label=\"model2\")\n",
    "plt.legend()"
   ],
   "metadata": {
    "collapsed": false,
    "ExecuteTime": {
     "end_time": "2024-10-13T12:44:54.067454200Z",
     "start_time": "2024-10-13T12:44:53.837609500Z"
    }
   },
   "id": "a425766cd5c40257"
  },
  {
   "cell_type": "code",
   "execution_count": 18,
   "outputs": [
    {
     "data": {
      "text/plain": "<Figure size 640x480 with 1 Axes>",
      "image/png": "[encoded data removed]"
     },
     "metadata": {},
     "output_type": "display_data"
    }
   ],
   "source": [
    "plt.title(\"test_acc for models\")\n",
    "plt.xlabel(\"epoch\")\n",
    "plt.ylabel(\"test_acc\")\n",
    "plt.plot(test_accuracies, label=\"model\")\n",
    "plt.plot(test_accuracies2, label=\"model2\")\n",
    "plt.plot(test_accuracies3, label=\"mlp\")\n",
    "plt.legend()\n",
    "\n",
    "plt.yscale('log')"
   ],
   "metadata": {
    "collapsed": false,
    "ExecuteTime": {
     "end_time": "2024-10-13T12:44:54.548529400Z",
     "start_time": "2024-10-13T12:44:54.048749100Z"
    }
   },
   "id": "880d5b46304ef260"
  },
  {
   "cell_type": "code",
   "execution_count": 19,
   "outputs": [
    {
     "name": "stdout",
     "output_type": "stream",
     "text": [
      "for each batch, X.shape:  torch.Size([8, 7])\n"
     ]
    },
    {
     "data": {
      "text/plain": "tensor(1.3045, device='cuda:0', grad_fn=<AddBackward0>)"
     },
     "execution_count": 19,
     "metadata": {},
     "output_type": "execute_result"
    }
   ],
   "source": [
    "print(f'for each batch, X.shape:  {X.shape}')\n",
    "total_loss"
   ],
   "metadata": {
    "collapsed": false,
    "ExecuteTime": {
     "end_time": "2024-10-13T12:44:54.667317300Z",
     "start_time": "2024-10-13T12:44:54.549531700Z"
    }
   },
   "id": "f5a460eca48d2a22"
  },
  {
   "cell_type": "code",
   "execution_count": 20,
   "outputs": [
    {
     "name": "stdout",
     "output_type": "stream",
     "text": [
      "torch.Size([8, 1, 7, 1])\n"
     ]
    }
   ],
   "source": [
    "for X, y in test_loader:\n",
    "    print(X.unsqueeze(1).shape)\n",
    "    break"
   ],
   "metadata": {
    "collapsed": false,
    "ExecuteTime": {
     "end_time": "2024-10-13T12:44:54.667317300Z",
     "start_time": "2024-10-13T12:44:54.592098700Z"
    }
   },
   "id": "d8bec284102b276d"
  },
  {
   "cell_type": "markdown",
   "source": [
    "test"
   ],
   "metadata": {
    "collapsed": false
   },
   "id": "3fda054c99e58ef1"
  },
  {
   "cell_type": "code",
   "execution_count": 21,
   "outputs": [
    {
     "name": "stdout",
     "output_type": "stream",
     "text": [
      "Model is on device: cuda:0\n"
     ]
    }
   ],
   "source": [
    "device = next(model.parameters()).device\n",
    "print(f\"Model is on device: {device}\")\n"
   ],
   "metadata": {
    "collapsed": false,
    "ExecuteTime": {
     "end_time": "2024-10-13T12:44:54.667317300Z",
     "start_time": "2024-10-13T12:44:54.608558800Z"
    }
   },
   "id": "6719bbdca200a689"
  },
  {
   "cell_type": "code",
   "execution_count": 22,
   "outputs": [
    {
     "data": {
      "text/plain": "torch.Size([8, 4])"
     },
     "execution_count": 22,
     "metadata": {},
     "output_type": "execute_result"
    }
   ],
   "source": [
    "y_pred.shape"
   ],
   "metadata": {
    "collapsed": false,
    "ExecuteTime": {
     "end_time": "2024-10-13T12:44:54.668317500Z",
     "start_time": "2024-10-13T12:44:54.623074600Z"
    }
   },
   "id": "1079f7dc28c0fdb"
  },
  {
   "cell_type": "code",
   "execution_count": 23,
   "outputs": [
    {
     "data": {
      "text/plain": "tensor([[ 0.0254, -0.0108, -0.0182,  0.0041]], device='cuda:0',\n       grad_fn=<SliceBackward0>)"
     },
     "execution_count": 23,
     "metadata": {},
     "output_type": "execute_result"
    }
   ],
   "source": [
    "y_pred[:1, :]"
   ],
   "metadata": {
    "collapsed": false,
    "ExecuteTime": {
     "end_time": "2024-10-13T12:44:54.677839900Z",
     "start_time": "2024-10-13T12:44:54.639185600Z"
    }
   },
   "id": "f8f834c8dde3ecd7"
  },
  {
   "cell_type": "code",
   "execution_count": 24,
   "outputs": [
    {
     "data": {
      "text/plain": "tensor([[-2.0701e-06, -2.1330e-04,  4.0888e-05]])"
     },
     "execution_count": 24,
     "metadata": {},
     "output_type": "execute_result"
    }
   ],
   "source": [
    "y[:1, 1:]"
   ],
   "metadata": {
    "collapsed": false,
    "ExecuteTime": {
     "end_time": "2024-10-13T12:44:54.706129700Z",
     "start_time": "2024-10-13T12:44:54.653706700Z"
    }
   },
   "id": "64721cdd576a7161"
  },
  {
   "cell_type": "code",
   "execution_count": 25,
   "outputs": [
    {
     "data": {
      "text/plain": "torch.Size([200, 3])"
     },
     "execution_count": 25,
     "metadata": {},
     "output_type": "execute_result"
    }
   ],
   "source": [
    "X_test = X_test.to(device)\n",
    "y_test = y_test.to(device)\n",
    "model2(X_test, y_test[:, :1]).shape"
   ],
   "metadata": {
    "collapsed": false,
    "ExecuteTime": {
     "end_time": "2024-10-13T12:44:54.708131500Z",
     "start_time": "2024-10-13T12:44:54.671315200Z"
    }
   },
   "id": "61e19679fab78403"
  },
  {
   "cell_type": "markdown",
   "source": [
    "### evaluate "
   ],
   "metadata": {
    "collapsed": false
   },
   "id": "cdbbe864f6659180"
  },
  {
   "cell_type": "code",
   "execution_count": 26,
   "outputs": [
    {
     "ename": "RuntimeError",
     "evalue": "Input and parameter tensors are not at the same device, found input tensor at cpu and parameter tensor at cuda:0",
     "output_type": "error",
     "traceback": [
      "\u001B[1;31m---------------------------------------------------------------------------\u001B[0m",
      "\u001B[1;31mRuntimeError\u001B[0m                              Traceback (most recent call last)",
      "Cell \u001B[1;32mIn[26], line 4\u001B[0m\n\u001B[0;32m      2\u001B[0m X_test \u001B[38;5;241m=\u001B[39m X_test\u001B[38;5;241m.\u001B[39mto(device)\n\u001B[0;32m      3\u001B[0m y_test \u001B[38;5;241m=\u001B[39m y_test\u001B[38;5;241m.\u001B[39mto(device)\n\u001B[1;32m----> 4\u001B[0m \u001B[43mmodel2\u001B[49m\u001B[43m(\u001B[49m\u001B[43mX\u001B[49m\u001B[43m,\u001B[49m\u001B[43m \u001B[49m\u001B[43my\u001B[49m\u001B[43m[\u001B[49m\u001B[43m:\u001B[49m\u001B[43m,\u001B[49m\u001B[43m \u001B[49m\u001B[43m:\u001B[49m\u001B[38;5;241;43m1\u001B[39;49m\u001B[43m]\u001B[49m\u001B[43m)\u001B[49m\n",
      "File \u001B[1;32mD:\\anaconda\\envs\\boluo\\lib\\site-packages\\torch\\nn\\modules\\module.py:1194\u001B[0m, in \u001B[0;36mModule._call_impl\u001B[1;34m(self, *input, **kwargs)\u001B[0m\n\u001B[0;32m   1190\u001B[0m \u001B[38;5;66;03m# If we don't have any hooks, we want to skip the rest of the logic in\u001B[39;00m\n\u001B[0;32m   1191\u001B[0m \u001B[38;5;66;03m# this function, and just call forward.\u001B[39;00m\n\u001B[0;32m   1192\u001B[0m \u001B[38;5;28;01mif\u001B[39;00m \u001B[38;5;129;01mnot\u001B[39;00m (\u001B[38;5;28mself\u001B[39m\u001B[38;5;241m.\u001B[39m_backward_hooks \u001B[38;5;129;01mor\u001B[39;00m \u001B[38;5;28mself\u001B[39m\u001B[38;5;241m.\u001B[39m_forward_hooks \u001B[38;5;129;01mor\u001B[39;00m \u001B[38;5;28mself\u001B[39m\u001B[38;5;241m.\u001B[39m_forward_pre_hooks \u001B[38;5;129;01mor\u001B[39;00m _global_backward_hooks\n\u001B[0;32m   1193\u001B[0m         \u001B[38;5;129;01mor\u001B[39;00m _global_forward_hooks \u001B[38;5;129;01mor\u001B[39;00m _global_forward_pre_hooks):\n\u001B[1;32m-> 1194\u001B[0m     \u001B[38;5;28;01mreturn\u001B[39;00m forward_call(\u001B[38;5;241m*\u001B[39m\u001B[38;5;28minput\u001B[39m, \u001B[38;5;241m*\u001B[39m\u001B[38;5;241m*\u001B[39mkwargs)\n\u001B[0;32m   1195\u001B[0m \u001B[38;5;66;03m# Do not call functions when jit is used\u001B[39;00m\n\u001B[0;32m   1196\u001B[0m full_backward_hooks, non_full_backward_hooks \u001B[38;5;241m=\u001B[39m [], []\n",
      "File \u001B[1;32mD:\\desktop\\GPU-Accelerated-Beam-Simulation-Algorithm-PKU-main\\model.py:117\u001B[0m, in \u001B[0;36mModel2.forward\u001B[1;34m(self, x, y_true_first_column)\u001B[0m\n\u001B[0;32m    114\u001B[0m \u001B[38;5;28;01mdef\u001B[39;00m \u001B[38;5;21mforward\u001B[39m(\u001B[38;5;28mself\u001B[39m, x, y_true_first_column):\n\u001B[0;32m    115\u001B[0m     \u001B[38;5;66;03m# x.shape: [batch_size, seq_len, input_size] (1000, 4, 1)\u001B[39;00m\n\u001B[0;32m    116\u001B[0m     hidden_state \u001B[38;5;241m=\u001B[39m \u001B[38;5;28mself\u001B[39m\u001B[38;5;241m.\u001B[39mencoder\u001B[38;5;241m.\u001B[39minitHidden(x\u001B[38;5;241m.\u001B[39mshape[\u001B[38;5;241m0\u001B[39m], x\u001B[38;5;241m.\u001B[39mdevice)    \u001B[38;5;66;03m# self.encoder.device????\u001B[39;00m\n\u001B[1;32m--> 117\u001B[0m     output_encoder, hidden_encoder \u001B[38;5;241m=\u001B[39m \u001B[38;5;28;43mself\u001B[39;49m\u001B[38;5;241;43m.\u001B[39;49m\u001B[43mencoder\u001B[49m\u001B[43m(\u001B[49m\u001B[43mx\u001B[49m\u001B[43m,\u001B[49m\u001B[43m \u001B[49m\u001B[43mhidden_state\u001B[49m\u001B[43m)\u001B[49m\n\u001B[0;32m    118\u001B[0m     \u001B[38;5;66;03m# (1000, 4, 30) ,(1, 1000, 30)\u001B[39;00m\n\u001B[0;32m    120\u001B[0m     hidden_decoder \u001B[38;5;241m=\u001B[39m hidden_encoder\n",
      "File \u001B[1;32mD:\\anaconda\\envs\\boluo\\lib\\site-packages\\torch\\nn\\modules\\module.py:1194\u001B[0m, in \u001B[0;36mModule._call_impl\u001B[1;34m(self, *input, **kwargs)\u001B[0m\n\u001B[0;32m   1190\u001B[0m \u001B[38;5;66;03m# If we don't have any hooks, we want to skip the rest of the logic in\u001B[39;00m\n\u001B[0;32m   1191\u001B[0m \u001B[38;5;66;03m# this function, and just call forward.\u001B[39;00m\n\u001B[0;32m   1192\u001B[0m \u001B[38;5;28;01mif\u001B[39;00m \u001B[38;5;129;01mnot\u001B[39;00m (\u001B[38;5;28mself\u001B[39m\u001B[38;5;241m.\u001B[39m_backward_hooks \u001B[38;5;129;01mor\u001B[39;00m \u001B[38;5;28mself\u001B[39m\u001B[38;5;241m.\u001B[39m_forward_hooks \u001B[38;5;129;01mor\u001B[39;00m \u001B[38;5;28mself\u001B[39m\u001B[38;5;241m.\u001B[39m_forward_pre_hooks \u001B[38;5;129;01mor\u001B[39;00m _global_backward_hooks\n\u001B[0;32m   1193\u001B[0m         \u001B[38;5;129;01mor\u001B[39;00m _global_forward_hooks \u001B[38;5;129;01mor\u001B[39;00m _global_forward_pre_hooks):\n\u001B[1;32m-> 1194\u001B[0m     \u001B[38;5;28;01mreturn\u001B[39;00m forward_call(\u001B[38;5;241m*\u001B[39m\u001B[38;5;28minput\u001B[39m, \u001B[38;5;241m*\u001B[39m\u001B[38;5;241m*\u001B[39mkwargs)\n\u001B[0;32m   1195\u001B[0m \u001B[38;5;66;03m# Do not call functions when jit is used\u001B[39;00m\n\u001B[0;32m   1196\u001B[0m full_backward_hooks, non_full_backward_hooks \u001B[38;5;241m=\u001B[39m [], []\n",
      "File \u001B[1;32mD:\\desktop\\GPU-Accelerated-Beam-Simulation-Algorithm-PKU-main\\model.py:26\u001B[0m, in \u001B[0;36mEncoderLstm.forward\u001B[1;34m(self, x, hidden)\u001B[0m\n\u001B[0;32m     24\u001B[0m \u001B[38;5;28;01mdef\u001B[39;00m \u001B[38;5;21mforward\u001B[39m(\u001B[38;5;28mself\u001B[39m, x, hidden):\n\u001B[0;32m     25\u001B[0m     \u001B[38;5;66;03m# embedded = self.embedding(x).view(1, 1, -1)\u001B[39;00m\n\u001B[1;32m---> 26\u001B[0m     output, hidden \u001B[38;5;241m=\u001B[39m \u001B[38;5;28;43mself\u001B[39;49m\u001B[38;5;241;43m.\u001B[39;49m\u001B[43mlstm\u001B[49m\u001B[43m(\u001B[49m\u001B[43mx\u001B[49m\u001B[43m,\u001B[49m\u001B[43m \u001B[49m\u001B[43mhidden\u001B[49m\u001B[43m)\u001B[49m\n\u001B[0;32m     27\u001B[0m     \u001B[38;5;28;01mreturn\u001B[39;00m output, hidden\n",
      "File \u001B[1;32mD:\\anaconda\\envs\\boluo\\lib\\site-packages\\torch\\nn\\modules\\module.py:1194\u001B[0m, in \u001B[0;36mModule._call_impl\u001B[1;34m(self, *input, **kwargs)\u001B[0m\n\u001B[0;32m   1190\u001B[0m \u001B[38;5;66;03m# If we don't have any hooks, we want to skip the rest of the logic in\u001B[39;00m\n\u001B[0;32m   1191\u001B[0m \u001B[38;5;66;03m# this function, and just call forward.\u001B[39;00m\n\u001B[0;32m   1192\u001B[0m \u001B[38;5;28;01mif\u001B[39;00m \u001B[38;5;129;01mnot\u001B[39;00m (\u001B[38;5;28mself\u001B[39m\u001B[38;5;241m.\u001B[39m_backward_hooks \u001B[38;5;129;01mor\u001B[39;00m \u001B[38;5;28mself\u001B[39m\u001B[38;5;241m.\u001B[39m_forward_hooks \u001B[38;5;129;01mor\u001B[39;00m \u001B[38;5;28mself\u001B[39m\u001B[38;5;241m.\u001B[39m_forward_pre_hooks \u001B[38;5;129;01mor\u001B[39;00m _global_backward_hooks\n\u001B[0;32m   1193\u001B[0m         \u001B[38;5;129;01mor\u001B[39;00m _global_forward_hooks \u001B[38;5;129;01mor\u001B[39;00m _global_forward_pre_hooks):\n\u001B[1;32m-> 1194\u001B[0m     \u001B[38;5;28;01mreturn\u001B[39;00m forward_call(\u001B[38;5;241m*\u001B[39m\u001B[38;5;28minput\u001B[39m, \u001B[38;5;241m*\u001B[39m\u001B[38;5;241m*\u001B[39mkwargs)\n\u001B[0;32m   1195\u001B[0m \u001B[38;5;66;03m# Do not call functions when jit is used\u001B[39;00m\n\u001B[0;32m   1196\u001B[0m full_backward_hooks, non_full_backward_hooks \u001B[38;5;241m=\u001B[39m [], []\n",
      "File \u001B[1;32mD:\\anaconda\\envs\\boluo\\lib\\site-packages\\torch\\nn\\modules\\rnn.py:774\u001B[0m, in \u001B[0;36mLSTM.forward\u001B[1;34m(self, input, hx)\u001B[0m\n\u001B[0;32m    772\u001B[0m \u001B[38;5;28mself\u001B[39m\u001B[38;5;241m.\u001B[39mcheck_forward_args(\u001B[38;5;28minput\u001B[39m, hx, batch_sizes)\n\u001B[0;32m    773\u001B[0m \u001B[38;5;28;01mif\u001B[39;00m batch_sizes \u001B[38;5;129;01mis\u001B[39;00m \u001B[38;5;28;01mNone\u001B[39;00m:\n\u001B[1;32m--> 774\u001B[0m     result \u001B[38;5;241m=\u001B[39m \u001B[43m_VF\u001B[49m\u001B[38;5;241;43m.\u001B[39;49m\u001B[43mlstm\u001B[49m\u001B[43m(\u001B[49m\u001B[38;5;28;43minput\u001B[39;49m\u001B[43m,\u001B[49m\u001B[43m \u001B[49m\u001B[43mhx\u001B[49m\u001B[43m,\u001B[49m\u001B[43m \u001B[49m\u001B[38;5;28;43mself\u001B[39;49m\u001B[38;5;241;43m.\u001B[39;49m\u001B[43m_flat_weights\u001B[49m\u001B[43m,\u001B[49m\u001B[43m \u001B[49m\u001B[38;5;28;43mself\u001B[39;49m\u001B[38;5;241;43m.\u001B[39;49m\u001B[43mbias\u001B[49m\u001B[43m,\u001B[49m\u001B[43m \u001B[49m\u001B[38;5;28;43mself\u001B[39;49m\u001B[38;5;241;43m.\u001B[39;49m\u001B[43mnum_layers\u001B[49m\u001B[43m,\u001B[49m\n\u001B[0;32m    775\u001B[0m \u001B[43m                      \u001B[49m\u001B[38;5;28;43mself\u001B[39;49m\u001B[38;5;241;43m.\u001B[39;49m\u001B[43mdropout\u001B[49m\u001B[43m,\u001B[49m\u001B[43m \u001B[49m\u001B[38;5;28;43mself\u001B[39;49m\u001B[38;5;241;43m.\u001B[39;49m\u001B[43mtraining\u001B[49m\u001B[43m,\u001B[49m\u001B[43m \u001B[49m\u001B[38;5;28;43mself\u001B[39;49m\u001B[38;5;241;43m.\u001B[39;49m\u001B[43mbidirectional\u001B[49m\u001B[43m,\u001B[49m\u001B[43m \u001B[49m\u001B[38;5;28;43mself\u001B[39;49m\u001B[38;5;241;43m.\u001B[39;49m\u001B[43mbatch_first\u001B[49m\u001B[43m)\u001B[49m\n\u001B[0;32m    776\u001B[0m \u001B[38;5;28;01melse\u001B[39;00m:\n\u001B[0;32m    777\u001B[0m     result \u001B[38;5;241m=\u001B[39m _VF\u001B[38;5;241m.\u001B[39mlstm(\u001B[38;5;28minput\u001B[39m, batch_sizes, hx, \u001B[38;5;28mself\u001B[39m\u001B[38;5;241m.\u001B[39m_flat_weights, \u001B[38;5;28mself\u001B[39m\u001B[38;5;241m.\u001B[39mbias,\n\u001B[0;32m    778\u001B[0m                       \u001B[38;5;28mself\u001B[39m\u001B[38;5;241m.\u001B[39mnum_layers, \u001B[38;5;28mself\u001B[39m\u001B[38;5;241m.\u001B[39mdropout, \u001B[38;5;28mself\u001B[39m\u001B[38;5;241m.\u001B[39mtraining, \u001B[38;5;28mself\u001B[39m\u001B[38;5;241m.\u001B[39mbidirectional)\n",
      "\u001B[1;31mRuntimeError\u001B[0m: Input and parameter tensors are not at the same device, found input tensor at cpu and parameter tensor at cuda:0"
     ]
    }
   ],
   "source": [
    "model.eval()\n",
    "X_test = X_test.to(device)\n",
    "y_test = y_test.to(device)\n",
    "model2(X, y[:, :1])"
   ],
   "metadata": {
    "collapsed": false,
    "ExecuteTime": {
     "end_time": "2024-10-13T12:44:56.853225700Z",
     "start_time": "2024-10-13T12:44:54.687359400Z"
    }
   },
   "id": "9ad47b735ddcf9ab"
  },
  {
   "cell_type": "markdown",
   "source": [],
   "metadata": {
    "collapsed": false
   },
   "id": "5c377114b8f6262b"
  },
  {
   "cell_type": "code",
   "execution_count": null,
   "outputs": [],
   "source": [
    "y[:, :]"
   ],
   "metadata": {
    "collapsed": false,
    "ExecuteTime": {
     "start_time": "2024-10-13T12:44:56.851227900Z"
    }
   },
   "id": "3801eaa93ed8645a"
  },
  {
   "cell_type": "code",
   "execution_count": null,
   "outputs": [],
   "source": [
    "X.device"
   ],
   "metadata": {
    "collapsed": false,
    "ExecuteTime": {
     "end_time": "2024-10-13T12:44:56.855227500Z",
     "start_time": "2024-10-13T12:44:56.854227100Z"
    }
   },
   "id": "23bfc4cda8a64087"
  },
  {
   "cell_type": "code",
   "execution_count": null,
   "outputs": [],
   "source": [
    "len(test_accuracies)"
   ],
   "metadata": {
    "collapsed": false,
    "ExecuteTime": {
     "end_time": "2024-10-13T12:44:56.856271100Z",
     "start_time": "2024-10-13T12:44:56.855227500Z"
    }
   },
   "id": "ce510382ff378232"
  },
  {
   "cell_type": "code",
   "execution_count": null,
   "outputs": [],
   "source": [],
   "metadata": {
    "collapsed": false,
    "ExecuteTime": {
     "end_time": "2024-10-13T12:44:56.877305700Z",
     "start_time": "2024-10-13T12:44:56.857272800Z"
    }
   },
   "id": "c1d4d61a547a3290"
  }
 ],
 "metadata": {
  "kernelspec": {
   "display_name": "Python 3",
   "language": "python",
   "name": "python3"
  },
  "language_info": {
   "codemirror_mode": {
    "name": "ipython",
    "version": 2
   },
   "file_extension": ".py",
   "mimetype": "text/x-python",
   "name": "python",
   "nbconvert_exporter": "python",
   "pygments_lexer": "ipython2",
   "version": "2.7.6"
  }
 },
 "nbformat": 4,
 "nbformat_minor": 5
}
