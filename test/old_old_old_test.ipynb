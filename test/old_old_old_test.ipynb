{
 "cells": [
  {
   "cell_type": "code",
   "execution_count": 13,
   "id": "initial_id",
   "metadata": {
    "collapsed": true,
    "ExecuteTime": {
     "end_time": "2024-09-16T07:54:48.137064400Z",
     "start_time": "2024-09-16T07:54:48.124067800Z"
    }
   },
   "outputs": [],
   "source": [
    "import pyBeamSim\n",
    "import numpy as np\n",
    "import pandas as pd\n",
    "import torch\n",
    "import torch.nn as nn\n",
    "\n",
    "\n",
    "class EncoderLstm(nn.Module):\n",
    "    def __init__(self, input_size, hidden_size):\n",
    "        super(EncoderLstm, self).__init__()\n",
    "        self.hidden_size = hidden_size\n",
    "        # self.embedding = nn.Embedding(input_size, hidden_size)\n",
    "        self.lstm = nn.LSTM(input_size, hidden_size, batch_first=True)\n",
    "\n",
    "    def forward(self, x, hidden):\n",
    "        # embedded = self.embedding(x).view(1, 1, -1)\n",
    "        output, hidden = self.lstm(x, hidden)\n",
    "        return output, hidden\n",
    "\n",
    "    def initHidden(self, batch_size):\n",
    "        return (torch.zeros(1, batch_size, self.hidden_size),\n",
    "                torch.zeros(1, batch_size, self.hidden_size))\n",
    "\n",
    "# output_encoder shape: [batch_size, seq_len, hidden_size]\n",
    "# hidden_encoder shape : [1, batch_size, hidden_size]\n",
    "\n",
    "# output_encoder[:, -1, :] as input_decoder , hidden same as  , et seq_len = 1\n",
    "# output_decoder  shape: [batch_size, seq_len, hidden_size]\n",
    "\n",
    "class DecoderLstm(nn.Module):\n",
    "    def __init__(self, input_size, hidden_size, output_size):\n",
    "        super(DecoderLstm, self).__init__()\n",
    "        self.input_size = input_size\n",
    "        self.hidden_size = hidden_size\n",
    "        self.output_size = output_size\n",
    "        # self.embedding = nn.Embedding(output_size, hidden_size)\n",
    "        self.lstm = nn.LSTM(input_size, hidden_size, batch_first=True)\n",
    "\n",
    "        self.fc = nn.Linear(hidden_size, output_size)\n",
    "\n",
    "    def forward(self, x, hidden):\n",
    "        # embedded = self.embedding(x).view(1, 1, -1)\n",
    "\n",
    "        # x.shape~X[:, -1, :]: [batch_size, input_size]\n",
    "        output, hidden = self.lstm(x.unsqueeze(1), hidden)\n",
    "        # output_shape: [batch_size, seq_len=1, hidden_size]\n",
    "        # hidden shape: [1, batch_size, hidden_size]\n",
    "        output = self.fc(output.squeeze(1))\n",
    "        # output_decoder  shape: [batch_size, output_size]\n",
    "        return output, hidden\n",
    "\n",
    "    def initHidden(self, batch_size):\n",
    "        return (torch.zeros(1, batch_size, self.hidden_size),\n",
    "                torch.zeros(1, batch_size, self.hidden_size))\n",
    "\n",
    "# take input_encoder[:, -1, :] as input_decoder\n",
    "\n",
    "class Model(nn.Module):\n",
    "    def __init__(self, input_size, hidden_size, output_size, output_len):\n",
    "        super(Model, self).__init__()\n",
    "        self.input_size = input_size\n",
    "        self.hidden_size = hidden_size\n",
    "        self.output_size = output_size\n",
    "        self.output_len = output_len\n",
    "        # without encoder initial\n",
    "        self.encoder = EncoderLstm(input_size, hidden_size)\n",
    "        self.decoder = DecoderLstm(input_size, hidden_size, output_size)\n",
    "\n",
    "    def forward(self, x):\n",
    "        # x.shape: [batch_size, seq_len, input_size] (1000, 4, 1)\n",
    "        hidden_state = self.encoder.initHidden(x.shape[0])\n",
    "        output_encoder, hidden_encoder = self.encoder(x, hidden_state)\n",
    "        # (1000, 4, 30) ,(1, 1000, 30)\n",
    "\n",
    "        hidden_decoder = hidden_encoder\n",
    "        # more changes can do\n",
    "        input_decoder = x[:, -1, :]   # (1000,1)\n",
    "\n",
    "        total = []\n",
    "        for i in range(self.output_len):\n",
    "            output_decoder, hidden_decoder = self.decoder(input_decoder, hidden_decoder)\n",
    "            # output_decoder.shape: [batch_size, output_size]\n",
    "            total.append(output_decoder)\n",
    "            input_decoder = output_decoder.unsqueeze(1)\n",
    "\n",
    "        return torch.concat(total, dim=1)"
   ]
  },
  {
   "cell_type": "code",
   "execution_count": 14,
   "outputs": [],
   "source": [
    "encoder = EncoderLstm(1, 30)"
   ],
   "metadata": {
    "collapsed": false,
    "ExecuteTime": {
     "end_time": "2024-09-16T07:54:48.443855100Z",
     "start_time": "2024-09-16T07:54:48.416704300Z"
    }
   },
   "id": "e109ae9b12162c3d"
  },
  {
   "cell_type": "code",
   "execution_count": 15,
   "outputs": [],
   "source": [
    "decoder = DecoderLstm(1, 30, 1)"
   ],
   "metadata": {
    "collapsed": false,
    "ExecuteTime": {
     "end_time": "2024-09-16T07:54:48.663476700Z",
     "start_time": "2024-09-16T07:54:48.652478700Z"
    }
   },
   "id": "899533ac526128d1"
  },
  {
   "cell_type": "code",
   "execution_count": 16,
   "outputs": [
    {
     "data": {
      "text/plain": "torch.Size([1000, 4, 1])"
     },
     "execution_count": 16,
     "metadata": {},
     "output_type": "execute_result"
    }
   ],
   "source": [
    "x = torch.rand(size=(1000, 4, 1))\n",
    "x.shape"
   ],
   "metadata": {
    "collapsed": false,
    "ExecuteTime": {
     "end_time": "2024-09-16T07:54:48.824976800Z",
     "start_time": "2024-09-16T07:54:48.788687900Z"
    }
   },
   "id": "3736217352e27883"
  },
  {
   "cell_type": "code",
   "execution_count": 17,
   "outputs": [
    {
     "data": {
      "text/plain": "torch.Size([1, 1000, 30])"
     },
     "execution_count": 17,
     "metadata": {},
     "output_type": "execute_result"
    }
   ],
   "source": [
    "hidden_state = encoder.initHidden(x.shape[0])\n",
    "hidden_state[0].shape"
   ],
   "metadata": {
    "collapsed": false,
    "ExecuteTime": {
     "end_time": "2024-09-16T07:54:48.950655300Z",
     "start_time": "2024-09-16T07:54:48.927655Z"
    }
   },
   "id": "da21d4b76012f594"
  },
  {
   "cell_type": "code",
   "execution_count": 18,
   "outputs": [
    {
     "data": {
      "text/plain": "torch.Size([1, 1000, 30])"
     },
     "execution_count": 18,
     "metadata": {},
     "output_type": "execute_result"
    }
   ],
   "source": [
    "output_encoder, hidden_encoder = encoder(x, hidden_state)\n",
    "hidden_encoder[0].shape"
   ],
   "metadata": {
    "collapsed": false,
    "ExecuteTime": {
     "end_time": "2024-09-16T07:54:49.068379500Z",
     "start_time": "2024-09-16T07:54:49.041380800Z"
    }
   },
   "id": "5d47539fdc71f3cf"
  },
  {
   "cell_type": "code",
   "execution_count": 19,
   "outputs": [
    {
     "data": {
      "text/plain": "torch.Size([1000, 1])"
     },
     "execution_count": 19,
     "metadata": {},
     "output_type": "execute_result"
    }
   ],
   "source": [
    "hidden_decoder = hidden_encoder\n",
    "input_decoder = x[:, -1, :] \n",
    "input_decoder.shape"
   ],
   "metadata": {
    "collapsed": false,
    "ExecuteTime": {
     "end_time": "2024-09-16T07:54:49.197899300Z",
     "start_time": "2024-09-16T07:54:49.175901700Z"
    }
   },
   "id": "5320b5f38a60eff9"
  },
  {
   "cell_type": "code",
   "execution_count": 23,
   "outputs": [],
   "source": [
    "total = []"
   ],
   "metadata": {
    "collapsed": false,
    "ExecuteTime": {
     "end_time": "2024-09-16T07:55:47.126812500Z",
     "start_time": "2024-09-16T07:55:47.109797600Z"
    }
   },
   "id": "820e7d4d52aca8ff"
  },
  {
   "cell_type": "code",
   "execution_count": 29,
   "outputs": [
    {
     "data": {
      "text/plain": "torch.Size([1000, 1])"
     },
     "execution_count": 29,
     "metadata": {},
     "output_type": "execute_result"
    }
   ],
   "source": [
    "output_decoder, hidden_decoder = decoder(input_decoder, hidden_decoder)\n",
    "total.append(output_decoder)\n",
    "output_decoder.shape"
   ],
   "metadata": {
    "collapsed": false,
    "ExecuteTime": {
     "end_time": "2024-09-16T07:56:14.989987Z",
     "start_time": "2024-09-16T07:56:14.958465600Z"
    }
   },
   "id": "78af696750fd5bda"
  },
  {
   "cell_type": "code",
   "execution_count": 30,
   "outputs": [
    {
     "data": {
      "text/plain": "3"
     },
     "execution_count": 30,
     "metadata": {},
     "output_type": "execute_result"
    }
   ],
   "source": [
    "len(total)"
   ],
   "metadata": {
    "collapsed": false,
    "ExecuteTime": {
     "end_time": "2024-09-16T07:56:15.336900300Z",
     "start_time": "2024-09-16T07:56:15.313278900Z"
    }
   },
   "id": "8b62967119e81f13"
  },
  {
   "cell_type": "code",
   "execution_count": null,
   "outputs": [],
   "source": [],
   "metadata": {
    "collapsed": false
   },
   "id": "d0958561a00067d2"
  }
 ],
 "metadata": {
  "kernelspec": {
   "display_name": "Python 3",
   "language": "python",
   "name": "python3"
  },
  "language_info": {
   "codemirror_mode": {
    "name": "ipython",
    "version": 2
   },
   "file_extension": ".py",
   "mimetype": "text/x-python",
   "name": "python",
   "nbconvert_exporter": "python",
   "pygments_lexer": "ipython2",
   "version": "2.7.6"
  }
 },
 "nbformat": 4,
 "nbformat_minor": 5
}
