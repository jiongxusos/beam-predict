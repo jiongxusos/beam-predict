{
 "cells": [
  {
   "cell_type": "code",
   "execution_count": 1,
   "id": "initial_id",
   "metadata": {
    "collapsed": true,
    "ExecuteTime": {
     "end_time": "2024-11-12T05:40:21.947103600Z",
     "start_time": "2024-11-12T05:40:18.905283600Z"
    }
   },
   "outputs": [],
   "source": [
    "import matplotlib.pyplot as plt\n",
    "\n",
    "import pyBeamSim\n",
    "import random\n",
    "import numpy as np\n",
    "import pandas as pd\n",
    "import torch\n",
    "import torch.nn as nn\n",
    "from torch.utils.data import TensorDataset, DataLoader\n",
    "from sklearn.model_selection import train_test_split\n",
    "\n",
    "import torch.optim as optim\n",
    "from model.model_with_attention import Encoder_Decoder\n",
    "\n",
    "from torchsummary import summary\n",
    "\n",
    "from deap import base, creator, tools, algorithms\n"
   ]
  },
  {
   "cell_type": "markdown",
   "source": [
    "model参数加载 应该使用 src 没有标准化， tgt标准化 训练的model"
   ],
   "metadata": {
    "collapsed": false
   },
   "id": "693612cf4b9d0813"
  },
  {
   "cell_type": "code",
   "execution_count": 2,
   "outputs": [
    {
     "data": {
      "text/plain": "<All keys matched successfully>"
     },
     "execution_count": 2,
     "metadata": {},
     "output_type": "execute_result"
    }
   ],
   "source": [
    "df = pd.read_csv('../data/data_10000.csv', index_col=0)\n",
    "\n",
    "input_size = 1\n",
    "output_size = 1\n",
    "use_models = ['GRU', 'LSTM']\n",
    "\n",
    "batch_size = 64\n",
    "hidden_size = 64\n",
    "num_layers = 2\n",
    "dropout = 0\n",
    "weight_decay = 0\n",
    "teacher_forcing = 0.5\n",
    "\n",
    "device = torch.device('cuda') if torch.cuda.is_available() else torch.device('cpu')\n",
    "use_model = use_models[0]\n",
    "\n",
    "model = Encoder_Decoder(input_size=input_size,\n",
    "                        encoder_hidden_size=hidden_size,\n",
    "                        decoder_hidden_size=hidden_size,\n",
    "                        output_size=output_size,\n",
    "                        model_device=device,\n",
    "                        num_layers=num_layers,\n",
    "                        teacher_forcing=teacher_forcing,\n",
    "                        dropout=dropout)\n",
    "\n",
    "# load model (z-score)\n",
    "model.load_state_dict(torch.load('../model_save/seq2seq_2layers.pth'))"
   ],
   "metadata": {
    "collapsed": false,
    "ExecuteTime": {
     "end_time": "2024-11-12T05:40:22.082714500Z",
     "start_time": "2024-11-12T05:40:21.948103400Z"
    }
   },
   "id": "9d29c1a4cfc9bc9a"
  },
  {
   "cell_type": "code",
   "execution_count": 3,
   "outputs": [
    {
     "data": {
      "text/plain": "             low  high units\ndrift1_len   0.1   0.5     m\nquad1_len    0.1   0.5     m\nquad1_gra  -20.0  20.0   T/m\ndrift2_len   0.1   0.5     m\nquad2_len    0.1   0.5     m\nquad2_gra  -20.0  20.0   T/m",
      "text/html": "<div>\n<style scoped>\n    .dataframe tbody tr th:only-of-type {\n        vertical-align: middle;\n    }\n\n    .dataframe tbody tr th {\n        vertical-align: top;\n    }\n\n    .dataframe thead th {\n        text-align: right;\n    }\n</style>\n<table border=\"1\" class=\"dataframe\">\n  <thead>\n    <tr style=\"text-align: right;\">\n      <th></th>\n      <th>low</th>\n      <th>high</th>\n      <th>units</th>\n    </tr>\n  </thead>\n  <tbody>\n    <tr>\n      <th>drift1_len</th>\n      <td>0.1</td>\n      <td>0.5</td>\n      <td>m</td>\n    </tr>\n    <tr>\n      <th>quad1_len</th>\n      <td>0.1</td>\n      <td>0.5</td>\n      <td>m</td>\n    </tr>\n    <tr>\n      <th>quad1_gra</th>\n      <td>-20.0</td>\n      <td>20.0</td>\n      <td>T/m</td>\n    </tr>\n    <tr>\n      <th>drift2_len</th>\n      <td>0.1</td>\n      <td>0.5</td>\n      <td>m</td>\n    </tr>\n    <tr>\n      <th>quad2_len</th>\n      <td>0.1</td>\n      <td>0.5</td>\n      <td>m</td>\n    </tr>\n    <tr>\n      <th>quad2_gra</th>\n      <td>-20.0</td>\n      <td>20.0</td>\n      <td>T/m</td>\n    </tr>\n  </tbody>\n</table>\n</div>"
     },
     "execution_count": 3,
     "metadata": {},
     "output_type": "execute_result"
    }
   ],
   "source": [
    "\"\"\"\" variable dataframe created\"\"\"\n",
    "vary = ['drift1_len', 'quad1_len', 'quad1_gra', 'drift2_len', 'quad2_len', 'quad2_gra']\n",
    "low = [0.1, 0.1, -20.0, 0.1, 0.1, -20.0]\n",
    "high = [0.5, 0.5, 20.0, 0.5, 0.5, 20.0]\n",
    "units = ['m', 'm', 'T/m', 'm', 'm', 'T/m']\n",
    "variable = pd.DataFrame(index=vary)\n",
    "variable['low'] = low\n",
    "variable['high'] = high\n",
    "variable['units'] = units\n",
    "variable"
   ],
   "metadata": {
    "collapsed": false,
    "ExecuteTime": {
     "end_time": "2024-11-12T05:40:22.152710700Z",
     "start_time": "2024-11-12T05:40:22.081708300Z"
    }
   },
   "id": "40c38f3efd068edd"
  },
  {
   "cell_type": "code",
   "execution_count": 4,
   "outputs": [],
   "source": [
    "ref_energy = 5\n",
    "num_particle = 102400\n",
    "simulator = pyBeamSim.BeamSimulator()\n",
    "simulator.init_beam(num_particle, 938.272046, 1.0, 0.0)\n",
    "# key step\n",
    "simulator.init_Beamline()\n",
    "simulator.init_spacecharge()\n",
    "simulator.set_beamTwiss(0, 0.003, 0.0001, 0, 0.003, 0.0001, 0, 8, 3.1415926e-11, 0, ref_energy, 500, 1)\n",
    "simulator.UpdateBeamParameters()\n",
    "simulator.save_initial_beam()\n",
    "\n",
    "def simulate_by_seq(simulator, value_list):\n",
    "    simulator.init_Beamline()\n",
    "    simulator.restore_initial_beam()\n",
    "    simulator.add_Drift('drift1', value_list[0], Aperture=0.05)\n",
    "    simulator.add_Quad('quad1', value_list[1], Aperture=0.012, FieldGradient=value_list[2])\n",
    "    simulator.add_Drift('drift2', value_list[3], Aperture=0.05)\n",
    "    simulator.add_Quad('quad2', value_list[4], Aperture=0.028, FieldGradient=value_list[5])\n",
    "    envelope = simulator.simulate_and_getEnvelope(use_spacecharge=True)\n",
    "    simulator.UpdateBeamParameters()\n",
    "    \n",
    "    x_avg = envelope['Avg_x']\n",
    "    x_avg1 = x_avg[1]\n",
    "    x_avg4 = x_avg[4]\n",
    "    return x_avg1, x_avg4"
   ],
   "metadata": {
    "collapsed": false,
    "ExecuteTime": {
     "end_time": "2024-11-12T05:40:22.217709300Z",
     "start_time": "2024-11-12T05:40:22.110711100Z"
    }
   },
   "id": "82074bc97ad74563"
  },
  {
   "cell_type": "code",
   "execution_count": 5,
   "outputs": [],
   "source": [
    "model.to('cpu')\n",
    "model.eval()\n",
    "\n",
    "def create_individual():\n",
    "    return [np.random.uniform(row['low'], row['high']) for _, row in variable.iterrows()]\n",
    "\n",
    "def evaluate(individual):\n",
    "    # todo\n",
    "    output = model(torch.tensor(individual).reshape(1, -1, 1), torch.Tensor([-2.582750e-09, 0, 0, 0, 0]).reshape(1, -1, 1)).detach()\n",
    "    output = output.squeeze().numpy().tolist()\n",
    "    return output[0], output[3]   # x_avg1 and x_avg4\n",
    "\n",
    "def genInd(low, high):\n",
    "    return [random.uniform(low_i, high_i) for low_i, high_i in zip(low, high)]"
   ],
   "metadata": {
    "collapsed": false,
    "ExecuteTime": {
     "end_time": "2024-11-12T05:40:22.232708400Z",
     "start_time": "2024-11-12T05:40:22.218708400Z"
    }
   },
   "id": "1be04d89a55e81ec"
  },
  {
   "cell_type": "code",
   "execution_count": 6,
   "outputs": [],
   "source": [
    "# define question\n",
    "creator.create(\"FitnessMin\", base.Fitness, weights=(-1.0, -1.0))   # two min\n",
    "creator.create(\"Individual\", list, fitness=creator.FitnessMin)\n",
    "\n",
    "toolbox = base.Toolbox()\n",
    "low = [0.1, 0.1, -20.0, 0.1, 0.1, -20.0]\n",
    "high = [0.5, 0.5, 20.0, 0.5, 0.5, 20.0]\n",
    "n_genes = len(low)  # 6\n",
    "\n",
    "# initial individual and population\n",
    "toolbox.register('genInd',genInd,low,high)\n",
    "toolbox.register(\"individual\", tools.initIterate, creator.Individual, toolbox.genInd)   # list\n",
    "toolbox.register(\"population\", tools.initRepeat, list, toolbox.individual)\n",
    "\n",
    "toolbox.register(\"evaluate\", evaluate)\n",
    "toolbox.register(\"mate\", tools.cxSimulatedBinaryBounded, low=low, up=high, eta=0.5)\n",
    "toolbox.register(\"mutate\", tools.mutPolynomialBounded, low=low, up=high, eta=20.0, indpb=0.2)\n",
    "toolbox.register(\"select\", tools.selNSGA2)"
   ],
   "metadata": {
    "collapsed": false,
    "ExecuteTime": {
     "end_time": "2024-11-12T05:40:22.248710800Z",
     "start_time": "2024-11-12T05:40:22.233710500Z"
    }
   },
   "id": "b4fa13c0dc438ce"
  },
  {
   "cell_type": "code",
   "execution_count": 7,
   "outputs": [
    {
     "name": "stdout",
     "output_type": "stream",
     "text": [
      "num in Generation 1: 12\n",
      "num in Generation 2: 11\n",
      "num in Generation 3: 16\n",
      "num in Generation 4: 18\n",
      "num in Generation 5: 27\n",
      "num in Generation 6: 16\n",
      "num in Generation 7: 21\n",
      "num in Generation 8: 33\n",
      "num in Generation 9: 56\n",
      "num in Generation 10: 37\n",
      "num in Generation 11: 42\n",
      "num in Generation 12: 35\n",
      "num in Generation 13: 57\n",
      "num in Generation 14: 98\n",
      "num in Generation 15: 66\n",
      "num in Generation 16: 29\n",
      "num in Generation 17: 34\n",
      "num in Generation 18: 54\n",
      "num in Generation 19: 37\n",
      "num in Generation 20: 36\n",
      "num in Generation 21: 35\n",
      "num in Generation 22: 36\n",
      "num in Generation 23: 51\n",
      "num in Generation 24: 33\n",
      "num in Generation 25: 56\n",
      "num in Generation 26: 56\n",
      "num in Generation 27: 77\n",
      "num in Generation 28: 84\n",
      "num in Generation 29: 112\n",
      "num in Generation 30: 180\n",
      "num in Generation 31: 109\n",
      "num in Generation 32: 129\n",
      "num in Generation 33: 200\n",
      "num in Generation 34: 194\n",
      "num in Generation 35: 160\n",
      "num in Generation 36: 170\n",
      "num in Generation 37: 200\n",
      "num in Generation 38: 200\n",
      "num in Generation 39: 200\n",
      "num in Generation 40: 200\n",
      "num in Generation 41: 131\n",
      "num in Generation 42: 170\n",
      "num in Generation 43: 196\n",
      "num in Generation 44: 200\n",
      "num in Generation 45: 200\n",
      "num in Generation 46: 200\n",
      "num in Generation 47: 200\n",
      "num in Generation 48: 200\n",
      "num in Generation 49: 200\n",
      "num in Generation 50: 200\n",
      "num in Generation 51: 200\n",
      "num in Generation 52: 200\n",
      "num in Generation 53: 200\n",
      "num in Generation 54: 200\n",
      "num in Generation 55: 200\n",
      "num in Generation 56: 200\n",
      "num in Generation 57: 200\n",
      "num in Generation 58: 200\n",
      "num in Generation 59: 200\n",
      "num in Generation 60: 200\n",
      "num in Generation 61: 200\n",
      "num in Generation 62: 200\n",
      "num in Generation 63: 200\n",
      "num in Generation 64: 200\n",
      "num in Generation 65: 200\n",
      "num in Generation 66: 200\n",
      "num in Generation 67: 200\n",
      "num in Generation 68: 200\n",
      "num in Generation 69: 200\n",
      "num in Generation 70: 200\n",
      "num in Generation 71: 200\n",
      "num in Generation 72: 200\n",
      "num in Generation 73: 200\n",
      "num in Generation 74: 200\n",
      "num in Generation 75: 200\n",
      "num in Generation 76: 200\n",
      "num in Generation 77: 200\n",
      "num in Generation 78: 200\n",
      "num in Generation 79: 200\n",
      "num in Generation 80: 200\n",
      "num in Generation 81: 200\n",
      "num in Generation 82: 200\n",
      "num in Generation 83: 200\n",
      "num in Generation 84: 200\n",
      "num in Generation 85: 200\n",
      "num in Generation 86: 200\n",
      "num in Generation 87: 200\n",
      "num in Generation 88: 200\n",
      "num in Generation 89: 200\n",
      "num in Generation 90: 200\n",
      "num in Generation 91: 200\n",
      "num in Generation 92: 200\n",
      "num in Generation 93: 200\n",
      "num in Generation 94: 200\n",
      "num in Generation 95: 200\n",
      "num in Generation 96: 200\n",
      "num in Generation 97: 200\n",
      "num in Generation 98: 200\n",
      "num in Generation 99: 200\n",
      "num in Generation 100: 200\n"
     ]
    }
   ],
   "source": [
    "N_POP = 200#种群内个体数量\n",
    "ngen = 100#迭代步数，参数过小，在收敛之前就结束搜索\n",
    "cxpb = 0.8#交叉概率，参数过小，族群不能有效更新\n",
    "mutpb = 0.2#突变概率，参数过小，容易陷入局部最优\n",
    "hof = tools.ParetoFront()\n",
    "\n",
    "population = toolbox.population(n=N_POP)\n",
    "for ind in population:\n",
    "    ind.fitness.values = toolbox.evaluate(ind)\n",
    "for gen in range(1, ngen + 1):\n",
    "\n",
    "    # 选择下一代的父母\n",
    "    offspring = toolbox.select(population, len(population))\n",
    "\n",
    "    # 克隆选择出来的个体\n",
    "    offspring = list(map(toolbox.clone, offspring))\n",
    "\n",
    "    # 应用交叉和变异\n",
    "    for child1, child2 in zip(offspring[::2], offspring[1::2]):\n",
    "        if random.random() < cxpb:\n",
    "            toolbox.mate(child1, child2)\n",
    "            del child1.fitness.values\n",
    "            del child2.fitness.values\n",
    "\n",
    "    for mutant in offspring:\n",
    "        if random.random() < mutpb:\n",
    "            toolbox.mutate(mutant)\n",
    "            del mutant.fitness.values\n",
    "\n",
    "    # 重新评估所有失效的个体\n",
    "    invalid_ind = [ind for ind in offspring if not ind.fitness.valid]\n",
    "    for ind in invalid_ind:\n",
    "        ind.fitness.values = toolbox.evaluate(ind)\n",
    "\n",
    "    # 将当前种群和后代种群合并\n",
    "    population[:] = toolbox.select(population + offspring, len(population))\n",
    "\n",
    "    # 更新 Pareto 前沿\n",
    "    hof.update(population)\n",
    "\n",
    "    # 输出当前代的最优解\n",
    "    front = tools.sortNondominated(population, len(population), first_front_only=True) # one tuple  with a list if True\n",
    "    print(f\"num in Generation {gen}: {len(front[0])}\")"
   ],
   "metadata": {
    "collapsed": false,
    "ExecuteTime": {
     "end_time": "2024-11-12T05:41:36.778224800Z",
     "start_time": "2024-11-12T05:40:22.250708900Z"
    }
   },
   "id": "3babdbd0f3066890"
  },
  {
   "cell_type": "code",
   "execution_count": 13,
   "outputs": [],
   "source": [
    "dots = [] # for seq2seq\n",
    "# true for simulator\n",
    "true_x_avg1 = []\n",
    "true_x_avg4 = []\n",
    "for inv in front[0]:\n",
    "    dots.append(inv.fitness.values)\n",
    "    x_avg1, x_avg4 = simulate_by_seq(simulator, inv)\n",
    "    true_x_avg1.append(x_avg1)\n",
    "    true_x_avg4.append(x_avg4)\n",
    "all_x_avg1 = [point[0] * 1.055991623224124e-05 + 3.188122255538191e-05 for point in dots]\n",
    "all_x_avg4 = [point[1] * 0.00014960896561322487 + -4.8478108046593833e-05 for point in dots]"
   ],
   "metadata": {
    "collapsed": false,
    "ExecuteTime": {
     "end_time": "2024-11-12T05:49:49.363957Z",
     "start_time": "2024-11-12T05:49:41.917760200Z"
    }
   },
   "id": "b8a369c73175f79e"
  },
  {
   "cell_type": "code",
   "execution_count": 16,
   "outputs": [
    {
     "data": {
      "text/plain": "<matplotlib.legend.Legend at 0x1c08b35b0d0>"
     },
     "execution_count": 16,
     "metadata": {},
     "output_type": "execute_result"
    },
    {
     "data": {
      "text/plain": "<Figure size 500x500 with 1 Axes>",
      "image/png": "[encoded data removed]"
     },
     "metadata": {},
     "output_type": "display_data"
    }
   ],
   "source": [
    "plt.figure(figsize=(5, 5))\n",
    "plt.title('pareto front')\n",
    "plt.xlabel('x_avg1')\n",
    "plt.ylabel(\"y_avg4\")\n",
    "\n",
    "plt.scatter(all_x_avg1, all_x_avg4, label='seq2seq')\n",
    "plt.scatter(true_x_avg1, true_x_avg4, color='yellow', marker='x', label='simulation')\n",
    "plt.legend()"
   ],
   "metadata": {
    "collapsed": false,
    "ExecuteTime": {
     "end_time": "2024-11-12T05:50:33.804602700Z",
     "start_time": "2024-11-12T05:50:33.534588600Z"
    }
   },
   "id": "3e1aeeafe3d39606"
  },
  {
   "cell_type": "code",
   "execution_count": null,
   "outputs": [],
   "source": [],
   "metadata": {
    "collapsed": false
   },
   "id": "6ee9436997ba11fa"
  }
 ],
 "metadata": {
  "kernelspec": {
   "display_name": "Python 3",
   "language": "python",
   "name": "python3"
  },
  "language_info": {
   "codemirror_mode": {
    "name": "ipython",
    "version": 2
   },
   "file_extension": ".py",
   "mimetype": "text/x-python",
   "name": "python",
   "nbconvert_exporter": "python",
   "pygments_lexer": "ipython2",
   "version": "2.7.6"
  }
 },
 "nbformat": 4,
 "nbformat_minor": 5
}
