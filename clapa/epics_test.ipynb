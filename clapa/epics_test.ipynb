{
 "cells": [
  {
   "cell_type": "code",
   "execution_count": 1,
   "id": "initial_id",
   "metadata": {
    "collapsed": true,
    "ExecuteTime": {
     "end_time": "2024-10-31T07:24:44.235749300Z",
     "start_time": "2024-10-31T07:24:40.461399Z"
    }
   },
   "outputs": [],
   "source": [
    "import matplotlib.pyplot as plt\n",
    "\n",
    "import pyBeamSim\n",
    "import numpy as np\n",
    "import pandas as pd\n",
    "import torch\n",
    "import torch.nn as nn\n"
   ]
  },
  {
   "cell_type": "code",
   "execution_count": 2,
   "outputs": [],
   "source": [
    "from epics import PV, caget, cainfo, camonitor, caput"
   ],
   "metadata": {
    "collapsed": false,
    "ExecuteTime": {
     "end_time": "2024-10-31T07:24:44.293702600Z",
     "start_time": "2024-10-31T07:24:44.233213100Z"
    }
   },
   "id": "f2564e9225c7b82c"
  },
  {
   "cell_type": "code",
   "execution_count": 3,
   "outputs": [],
   "source": [
    "pv_channels = {\n",
    "    'quad2:length': PV('quad2:length'),\n",
    "    'quad4:length': PV('quad4:length'),\n",
    "    'quad1:length': PV('quad1:voltage')\n",
    "}"
   ],
   "metadata": {
    "collapsed": false,
    "ExecuteTime": {
     "end_time": "2024-10-31T07:24:44.507006100Z",
     "start_time": "2024-10-31T07:24:44.278225100Z"
    }
   },
   "id": "15868e4b28c15c9f"
  },
  {
   "cell_type": "code",
   "execution_count": 5,
   "outputs": [
    {
     "data": {
      "text/plain": "1"
     },
     "execution_count": 5,
     "metadata": {},
     "output_type": "execute_result"
    }
   ],
   "source": [
    "pv_channels['quad2:length'].put(0.5)"
   ],
   "metadata": {
    "collapsed": false,
    "ExecuteTime": {
     "end_time": "2024-10-31T07:25:13.513085100Z",
     "start_time": "2024-10-31T07:25:13.487119900Z"
    }
   },
   "id": "45ba0ee51eb5164f"
  },
  {
   "cell_type": "code",
   "execution_count": 6,
   "outputs": [
    {
     "name": "stdout",
     "output_type": "stream",
     "text": [
      "0.5\n",
      "0.3\n",
      "0.1\n"
     ]
    }
   ],
   "source": [
    "print(pv_channels['quad2:length'].get())\n",
    "print(pv_channels['quad4:length'].get())\n",
    "print(pv_channels['quad1:length'].get())\n"
   ],
   "metadata": {
    "collapsed": false,
    "ExecuteTime": {
     "end_time": "2024-10-31T07:25:14.171424Z",
     "start_time": "2024-10-31T07:25:14.158395500Z"
    }
   },
   "id": "ca44d6a625688e27"
  },
  {
   "cell_type": "code",
   "execution_count": 4,
   "outputs": [
    {
     "name": "stderr",
     "output_type": "stream",
     "text": [
      "Exception ignored on calling ctypes callback function: <function _onConnectionEvent at 0x00000217C8326DC0>\n",
      "Traceback (most recent call last):\n",
      "  File \"D:\\anaconda\\envs\\boluo\\lib\\site-packages\\epics\\dbr.py\", line 336, in wrapped\n",
      "    return func(arg.contents, **kwargs)\n",
      "  File \"D:\\anaconda\\envs\\boluo\\lib\\site-packages\\epics\\ca.py\", line 772, in _onConnectionEvent\n",
      "    entry.run_connection_callbacks(conn=(args.op == dbr.OP_CONN_UP),\n",
      "  File \"D:\\anaconda\\envs\\boluo\\lib\\site-packages\\epics\\ca.py\", line 271, in run_connection_callbacks\n",
      "    callback(pvname=self.pvname, chid=chid_int, conn=self.conn)\n",
      "  File \"D:\\anaconda\\envs\\boluo\\lib\\site-packages\\epics\\pv.py\", line 41, in wrapped\n",
      "    return func(self, *args, **kwargs)\n",
      "  File \"D:\\anaconda\\envs\\boluo\\lib\\site-packages\\epics\\pv.py\", line 333, in __on_connect\n",
      "    self._args['host']  = ca.host_name(self.chid)\n",
      "  File \"D:\\anaconda\\envs\\boluo\\lib\\site-packages\\epics\\ca.py\", line 629, in wrapper\n",
      "    return fcn(*args, **kwds)\n",
      "  File \"D:\\anaconda\\envs\\boluo\\lib\\site-packages\\epics\\ca.py\", line 1226, in host_name\n",
      "    return bytes2str(libca.ca_host_name(chid))\n",
      "  File \"D:\\anaconda\\envs\\boluo\\lib\\site-packages\\epics\\utils.py\", line 22, in bytes2str\n",
      "    return str(st1, IOENCODING)\n",
      "UnicodeDecodeError: 'utf-8' codec can't decode byte 0xc1 in position 0: invalid start byte\n",
      "Exception ignored on calling ctypes callback function: <function replace_printf_handler.<locals>.m_handler at 0x00000217C85538B0>\n",
      "Traceback (most recent call last):\n",
      "  File \"D:\\anaconda\\envs\\boluo\\lib\\site-packages\\epics\\ca.py\", line 938, in m_handler\n",
      "    writer(*[bytes2str(a) for a in args])\n",
      "  File \"D:\\anaconda\\envs\\boluo\\lib\\site-packages\\epics\\ca.py\", line 938, in <listcomp>\n",
      "    writer(*[bytes2str(a) for a in args])\n",
      "  File \"D:\\anaconda\\envs\\boluo\\lib\\site-packages\\epics\\utils.py\", line 22, in bytes2str\n",
      "    return str(st1, IOENCODING)\n",
      "UnicodeDecodeError: 'utf-8' codec can't decode byte 0xc1 in position 70: invalid start byte\n"
     ]
    },
    {
     "name": "stdout",
     "output_type": "stream",
     "text": [
      "cannot connect to quad4:length\n"
     ]
    }
   ],
   "source": [
    "caget('quad2:length')\n",
    "caget('quad4:length') "
   ],
   "metadata": {
    "collapsed": false,
    "ExecuteTime": {
     "start_time": "2024-10-21T00:55:43.449982900Z"
    }
   },
   "id": "e53b562fc18ee685"
  },
  {
   "cell_type": "code",
   "execution_count": 1,
   "outputs": [],
   "source": [
    "import epics"
   ],
   "metadata": {
    "collapsed": false,
    "ExecuteTime": {
     "end_time": "2024-10-10T07:08:56.502825200Z",
     "start_time": "2024-10-10T07:08:56.313173500Z"
    }
   },
   "id": "24afd4e0eab6af66"
  },
  {
   "cell_type": "code",
   "execution_count": 5,
   "outputs": [
    {
     "ename": "AttributeError",
     "evalue": "'OutStream' object has no attribute 'buffer'",
     "output_type": "error",
     "traceback": [
      "\u001B[1;31m---------------------------------------------------------------------------\u001B[0m",
      "\u001B[1;31mAttributeError\u001B[0m                            Traceback (most recent call last)",
      "Cell \u001B[1;32mIn[5], line 4\u001B[0m\n\u001B[0;32m      2\u001B[0m \u001B[38;5;28;01mimport\u001B[39;00m \u001B[38;5;21;01msys\u001B[39;00m\n\u001B[0;32m      3\u001B[0m \u001B[38;5;28;01mimport\u001B[39;00m \u001B[38;5;21;01mio\u001B[39;00m\n\u001B[1;32m----> 4\u001B[0m sys\u001B[38;5;241m.\u001B[39mstdout \u001B[38;5;241m=\u001B[39m io\u001B[38;5;241m.\u001B[39mTextIOWrapper(\u001B[43msys\u001B[49m\u001B[38;5;241;43m.\u001B[39;49m\u001B[43mstdout\u001B[49m\u001B[38;5;241;43m.\u001B[39;49m\u001B[43mbuffer\u001B[49m, encoding\u001B[38;5;241m=\u001B[39m\u001B[38;5;124m'\u001B[39m\u001B[38;5;124mutf-8\u001B[39m\u001B[38;5;124m'\u001B[39m)\n",
      "\u001B[1;31mAttributeError\u001B[0m: 'OutStream' object has no attribute 'buffer'"
     ]
    }
   ],
   "source": [
    "\n",
    "import sys\n",
    "import io\n",
    "sys.stdout = io.TextIOWrapper(sys.stdout.buffer, encoding='utf-8')"
   ],
   "metadata": {
    "collapsed": false,
    "ExecuteTime": {
     "start_time": "2024-10-09T13:42:47.311821600Z"
    }
   },
   "id": "83d2a06b1df961ee"
  },
  {
   "cell_type": "code",
   "execution_count": 2,
   "outputs": [],
   "source": [
    "pv = epics.PV(\"quad2:gradient\")\n",
    "\n",
    "# pv.connect()\n"
   ],
   "metadata": {
    "collapsed": false,
    "ExecuteTime": {
     "end_time": "2024-10-10T07:08:58.114182Z",
     "start_time": "2024-10-10T07:08:58.086957Z"
    }
   },
   "id": "f2389b90f54ef6d8"
  },
  {
   "cell_type": "code",
   "execution_count": 9,
   "outputs": [
    {
     "data": {
      "text/plain": "[0.03, 0.013252525515239727]"
     },
     "execution_count": 9,
     "metadata": {},
     "output_type": "execute_result"
    }
   ],
   "source": [
    "a = ['quad1:gradient', 'quad2:gradient']\n",
    "epics.caget_many(a)"
   ],
   "metadata": {
    "collapsed": false,
    "ExecuteTime": {
     "end_time": "2024-10-10T02:34:48.240143700Z",
     "start_time": "2024-10-10T02:34:48.182940600Z"
    }
   },
   "id": "d8193094c941da25"
  },
  {
   "cell_type": "code",
   "execution_count": 5,
   "outputs": [
    {
     "data": {
      "text/plain": "-0.01875494289722552"
     },
     "execution_count": 5,
     "metadata": {},
     "output_type": "execute_result"
    }
   ],
   "source": [
    "pv.get()"
   ],
   "metadata": {
    "collapsed": false,
    "ExecuteTime": {
     "end_time": "2024-10-10T07:09:06.931991300Z",
     "start_time": "2024-10-10T07:09:06.885516Z"
    }
   },
   "id": "bcf988036ad70de7"
  },
  {
   "cell_type": "code",
   "execution_count": 7,
   "outputs": [
    {
     "ename": "UnicodeDecodeError",
     "evalue": "'utf-8' codec can't decode byte 0xc1 in position 0: invalid start byte",
     "output_type": "error",
     "traceback": [
      "\u001B[1;31m---------------------------------------------------------------------------\u001B[0m",
      "\u001B[1;31mUnicodeDecodeError\u001B[0m                        Traceback (most recent call last)",
      "Cell \u001B[1;32mIn[7], line 1\u001B[0m\n\u001B[1;32m----> 1\u001B[0m pv2 \u001B[38;5;241m=\u001B[39m \u001B[43mepics\u001B[49m\u001B[38;5;241;43m.\u001B[39;49m\u001B[43mPV\u001B[49m\u001B[43m(\u001B[49m\u001B[38;5;124;43m\"\u001B[39;49m\u001B[38;5;124;43mquad1:length\u001B[39;49m\u001B[38;5;124;43m\"\u001B[39;49m\u001B[43m)\u001B[49m\n",
      "File \u001B[1;32mD:\\anaconda\\envs\\boluo\\lib\\site-packages\\epics\\pv.py:267\u001B[0m, in \u001B[0;36mPV.__init__\u001B[1;34m(self, pvname, callback, form, verbose, auto_monitor, count, connection_callback, connection_timeout, access_callback)\u001B[0m\n\u001B[0;32m    264\u001B[0m     ca\u001B[38;5;241m.\u001B[39muse_initial_context()\n\u001B[0;32m    265\u001B[0m \u001B[38;5;28mself\u001B[39m\u001B[38;5;241m.\u001B[39mcontext \u001B[38;5;241m=\u001B[39m ca\u001B[38;5;241m.\u001B[39mcurrent_context()\n\u001B[1;32m--> 267\u001B[0m \u001B[38;5;28mself\u001B[39m\u001B[38;5;241m.\u001B[39m_args[\u001B[38;5;124m'\u001B[39m\u001B[38;5;124mchid\u001B[39m\u001B[38;5;124m'\u001B[39m] \u001B[38;5;241m=\u001B[39m \u001B[43mca\u001B[49m\u001B[38;5;241;43m.\u001B[39;49m\u001B[43mcreate_channel\u001B[49m\u001B[43m(\u001B[49m\u001B[38;5;28;43mself\u001B[39;49m\u001B[38;5;241;43m.\u001B[39;49m\u001B[43mpvname\u001B[49m\u001B[43m,\u001B[49m\n\u001B[0;32m    268\u001B[0m \u001B[43m                                       \u001B[49m\u001B[43mcallback\u001B[49m\u001B[38;5;241;43m=\u001B[39;49m\u001B[38;5;28;43mself\u001B[39;49m\u001B[38;5;241;43m.\u001B[39;49m\u001B[43m__on_connect\u001B[49m\u001B[43m)\u001B[49m\n\u001B[0;32m    269\u001B[0m \u001B[38;5;28mself\u001B[39m\u001B[38;5;241m.\u001B[39mchid \u001B[38;5;241m=\u001B[39m \u001B[38;5;28mself\u001B[39m\u001B[38;5;241m.\u001B[39m_args[\u001B[38;5;124m'\u001B[39m\u001B[38;5;124mchid\u001B[39m\u001B[38;5;124m'\u001B[39m]\n\u001B[0;32m    270\u001B[0m ca\u001B[38;5;241m.\u001B[39mreplace_access_rights_event(\u001B[38;5;28mself\u001B[39m\u001B[38;5;241m.\u001B[39mchid,\n\u001B[0;32m    271\u001B[0m                                callback\u001B[38;5;241m=\u001B[39m\u001B[38;5;28mself\u001B[39m\u001B[38;5;241m.\u001B[39m__on_access_rights_event)\n",
      "File \u001B[1;32mD:\\anaconda\\envs\\boluo\\lib\\site-packages\\epics\\ca.py:599\u001B[0m, in \u001B[0;36mwithCA.<locals>.wrapper\u001B[1;34m(*args, **kwds)\u001B[0m\n\u001B[0;32m    597\u001B[0m \u001B[38;5;28;01melif\u001B[39;00m libca \u001B[38;5;129;01mis\u001B[39;00m _LIBCA_FINALIZED:\n\u001B[0;32m    598\u001B[0m     \u001B[38;5;28;01mreturn\u001B[39;00m  \u001B[38;5;66;03m# Avoid raising exceptions when Python shutting down\u001B[39;00m\n\u001B[1;32m--> 599\u001B[0m \u001B[38;5;28;01mreturn\u001B[39;00m fcn(\u001B[38;5;241m*\u001B[39margs, \u001B[38;5;241m*\u001B[39m\u001B[38;5;241m*\u001B[39mkwds)\n",
      "File \u001B[1;32mD:\\anaconda\\envs\\boluo\\lib\\site-packages\\epics\\ca.py:1123\u001B[0m, in \u001B[0;36mcreate_channel\u001B[1;34m(pvname, connect, auto_cb, callback)\u001B[0m\n\u001B[0;32m   1120\u001B[0m     entry\u001B[38;5;241m.\u001B[39mcallbacks\u001B[38;5;241m.\u001B[39mappend(callback)\n\u001B[0;32m   1121\u001B[0m     \u001B[38;5;28;01mif\u001B[39;00m entry\u001B[38;5;241m.\u001B[39mchid \u001B[38;5;129;01mis\u001B[39;00m \u001B[38;5;129;01mnot\u001B[39;00m \u001B[38;5;28;01mNone\u001B[39;00m \u001B[38;5;129;01mand\u001B[39;00m entry\u001B[38;5;241m.\u001B[39mconn:\n\u001B[0;32m   1122\u001B[0m         \u001B[38;5;66;03m# Run the connection callback if already connected:\u001B[39;00m\n\u001B[1;32m-> 1123\u001B[0m         \u001B[43mcallback\u001B[49m\u001B[43m(\u001B[49m\u001B[43mchid\u001B[49m\u001B[38;5;241;43m=\u001B[39;49m\u001B[43m_chid_to_int\u001B[49m\u001B[43m(\u001B[49m\u001B[43mentry\u001B[49m\u001B[38;5;241;43m.\u001B[39;49m\u001B[43mchid\u001B[49m\u001B[43m)\u001B[49m\u001B[43m,\u001B[49m\u001B[43m \u001B[49m\u001B[43mpvname\u001B[49m\u001B[38;5;241;43m=\u001B[39;49m\u001B[43mpvname\u001B[49m\u001B[43m,\u001B[49m\n\u001B[0;32m   1124\u001B[0m \u001B[43m                 \u001B[49m\u001B[43mconn\u001B[49m\u001B[38;5;241;43m=\u001B[39;49m\u001B[43mentry\u001B[49m\u001B[38;5;241;43m.\u001B[39;49m\u001B[43mconn\u001B[49m\u001B[43m)\u001B[49m\n\u001B[0;32m   1126\u001B[0m \u001B[38;5;28;01mif\u001B[39;00m connect:\n\u001B[0;32m   1127\u001B[0m     connect_channel(entry\u001B[38;5;241m.\u001B[39mchid)\n",
      "File \u001B[1;32mD:\\anaconda\\envs\\boluo\\lib\\site-packages\\epics\\pv.py:41\u001B[0m, in \u001B[0;36m_ensure_context.<locals>.wrapped\u001B[1;34m(self, *args, **kwargs)\u001B[0m\n\u001B[0;32m     39\u001B[0m     \u001B[38;5;28;01mraise\u001B[39;00m \u001B[38;5;167;01mRuntimeError\u001B[39;00m(\u001B[38;5;124m'\u001B[39m\u001B[38;5;124mExpected CA context is unset\u001B[39m\u001B[38;5;124m'\u001B[39m)\n\u001B[0;32m     40\u001B[0m \u001B[38;5;28;01mif\u001B[39;00m expected_context \u001B[38;5;241m==\u001B[39m initial_context:\n\u001B[1;32m---> 41\u001B[0m     \u001B[38;5;28;01mreturn\u001B[39;00m func(\u001B[38;5;28mself\u001B[39m, \u001B[38;5;241m*\u001B[39margs, \u001B[38;5;241m*\u001B[39m\u001B[38;5;241m*\u001B[39mkwargs)\n\u001B[0;32m     43\u001B[0m \u001B[38;5;66;03m# If not using the expected context, switch to it here:\u001B[39;00m\n\u001B[0;32m     44\u001B[0m \u001B[38;5;28;01mif\u001B[39;00m initial_context \u001B[38;5;129;01mis\u001B[39;00m \u001B[38;5;129;01mnot\u001B[39;00m \u001B[38;5;28;01mNone\u001B[39;00m:\n",
      "File \u001B[1;32mD:\\anaconda\\envs\\boluo\\lib\\site-packages\\epics\\pv.py:333\u001B[0m, in \u001B[0;36mPV.__on_connect\u001B[1;34m(self, pvname, chid, conn)\u001B[0m\n\u001B[0;32m    331\u001B[0m \u001B[38;5;66;03m# allow reduction of elements, via count argument\u001B[39;00m\n\u001B[0;32m    332\u001B[0m \u001B[38;5;28mself\u001B[39m\u001B[38;5;241m.\u001B[39m_args[\u001B[38;5;124m'\u001B[39m\u001B[38;5;124mcount\u001B[39m\u001B[38;5;124m'\u001B[39m] \u001B[38;5;241m=\u001B[39m \u001B[38;5;28mmin\u001B[39m(count, \u001B[38;5;28mself\u001B[39m\u001B[38;5;241m.\u001B[39m_user_max_count \u001B[38;5;129;01mor\u001B[39;00m count)\n\u001B[1;32m--> 333\u001B[0m \u001B[38;5;28mself\u001B[39m\u001B[38;5;241m.\u001B[39m_args[\u001B[38;5;124m'\u001B[39m\u001B[38;5;124mhost\u001B[39m\u001B[38;5;124m'\u001B[39m]  \u001B[38;5;241m=\u001B[39m \u001B[43mca\u001B[49m\u001B[38;5;241;43m.\u001B[39;49m\u001B[43mhost_name\u001B[49m\u001B[43m(\u001B[49m\u001B[38;5;28;43mself\u001B[39;49m\u001B[38;5;241;43m.\u001B[39;49m\u001B[43mchid\u001B[49m\u001B[43m)\u001B[49m\n\u001B[0;32m    334\u001B[0m \u001B[38;5;28mself\u001B[39m\u001B[38;5;241m.\u001B[39mftype \u001B[38;5;241m=\u001B[39m ca\u001B[38;5;241m.\u001B[39mpromote_type(\u001B[38;5;28mself\u001B[39m\u001B[38;5;241m.\u001B[39mchid,\n\u001B[0;32m    335\u001B[0m                              use_ctrl\u001B[38;5;241m=\u001B[39m \u001B[38;5;28mself\u001B[39m\u001B[38;5;241m.\u001B[39mform \u001B[38;5;241m==\u001B[39m \u001B[38;5;124m'\u001B[39m\u001B[38;5;124mctrl\u001B[39m\u001B[38;5;124m'\u001B[39m,\n\u001B[0;32m    336\u001B[0m                              use_time\u001B[38;5;241m=\u001B[39m \u001B[38;5;28mself\u001B[39m\u001B[38;5;241m.\u001B[39mform \u001B[38;5;241m==\u001B[39m \u001B[38;5;124m'\u001B[39m\u001B[38;5;124mtime\u001B[39m\u001B[38;5;124m'\u001B[39m)\n\u001B[0;32m    338\u001B[0m _ftype_ \u001B[38;5;241m=\u001B[39m dbr\u001B[38;5;241m.\u001B[39mName(\u001B[38;5;28mself\u001B[39m\u001B[38;5;241m.\u001B[39mftype)\u001B[38;5;241m.\u001B[39mlower()\n",
      "File \u001B[1;32mD:\\anaconda\\envs\\boluo\\lib\\site-packages\\epics\\ca.py:629\u001B[0m, in \u001B[0;36mwithCHID.<locals>.wrapper\u001B[1;34m(*args, **kwds)\u001B[0m\n\u001B[0;32m    627\u001B[0m     \u001B[38;5;28;01mif\u001B[39;00m chid\u001B[38;5;241m.\u001B[39mvalue \u001B[38;5;129;01mnot\u001B[39;00m \u001B[38;5;129;01min\u001B[39;00m _chid_cache:\n\u001B[0;32m    628\u001B[0m         \u001B[38;5;28;01mraise\u001B[39;00m ChannelAccessException(\u001B[38;5;124m'\u001B[39m\u001B[38;5;124mUnexpected channel ID\u001B[39m\u001B[38;5;124m'\u001B[39m)\n\u001B[1;32m--> 629\u001B[0m \u001B[38;5;28;01mreturn\u001B[39;00m fcn(\u001B[38;5;241m*\u001B[39margs, \u001B[38;5;241m*\u001B[39m\u001B[38;5;241m*\u001B[39mkwds)\n",
      "File \u001B[1;32mD:\\anaconda\\envs\\boluo\\lib\\site-packages\\epics\\ca.py:1226\u001B[0m, in \u001B[0;36mhost_name\u001B[1;34m(chid)\u001B[0m\n\u001B[0;32m   1223\u001B[0m \u001B[38;5;129m@withCHID\u001B[39m\n\u001B[0;32m   1224\u001B[0m \u001B[38;5;28;01mdef\u001B[39;00m \u001B[38;5;21mhost_name\u001B[39m(chid):\n\u001B[0;32m   1225\u001B[0m     \u001B[38;5;124m\"\u001B[39m\u001B[38;5;124mreturn host name and port serving Channel\u001B[39m\u001B[38;5;124m\"\u001B[39m\n\u001B[1;32m-> 1226\u001B[0m     \u001B[38;5;28;01mreturn\u001B[39;00m \u001B[43mbytes2str\u001B[49m\u001B[43m(\u001B[49m\u001B[43mlibca\u001B[49m\u001B[38;5;241;43m.\u001B[39;49m\u001B[43mca_host_name\u001B[49m\u001B[43m(\u001B[49m\u001B[43mchid\u001B[49m\u001B[43m)\u001B[49m\u001B[43m)\u001B[49m\n",
      "File \u001B[1;32mD:\\anaconda\\envs\\boluo\\lib\\site-packages\\epics\\utils.py:22\u001B[0m, in \u001B[0;36mbytes2str\u001B[1;34m(st1)\u001B[0m\n\u001B[0;32m     20\u001B[0m     \u001B[38;5;28;01mreturn\u001B[39;00m st1\n\u001B[0;32m     21\u001B[0m \u001B[38;5;28;01melif\u001B[39;00m \u001B[38;5;28misinstance\u001B[39m(st1, \u001B[38;5;28mbytes\u001B[39m):\n\u001B[1;32m---> 22\u001B[0m     \u001B[38;5;28;01mreturn\u001B[39;00m \u001B[38;5;28;43mstr\u001B[39;49m\u001B[43m(\u001B[49m\u001B[43mst1\u001B[49m\u001B[43m,\u001B[49m\u001B[43m \u001B[49m\u001B[43mIOENCODING\u001B[49m\u001B[43m)\u001B[49m\n\u001B[0;32m     23\u001B[0m \u001B[38;5;28;01melse\u001B[39;00m:\n\u001B[0;32m     24\u001B[0m     \u001B[38;5;28;01mreturn\u001B[39;00m \u001B[38;5;28mstr\u001B[39m(st1)\n",
      "\u001B[1;31mUnicodeDecodeError\u001B[0m: 'utf-8' codec can't decode byte 0xc1 in position 0: invalid start byte"
     ]
    }
   ],
   "source": [
    "pv2 = epics.PV(\"quad1:length\")\n"
   ],
   "metadata": {
    "collapsed": false,
    "ExecuteTime": {
     "end_time": "2024-10-10T07:09:33.223633900Z",
     "start_time": "2024-10-10T07:09:32.938096200Z"
    }
   },
   "id": "7bcf15cebf090f1d"
  },
  {
   "cell_type": "code",
   "execution_count": 4,
   "outputs": [
    {
     "name": "stderr",
     "output_type": "stream",
     "text": [
      "Exception ignored on calling ctypes callback function: <function replace_printf_handler.<locals>.m_handler at 0x00000241BD8D7C10>\n",
      "Traceback (most recent call last):\n",
      "  File \"D:\\anaconda\\envs\\boluo\\lib\\site-packages\\epics\\ca.py\", line 938, in m_handler\n",
      "    writer(*[bytes2str(a) for a in args])\n",
      "  File \"D:\\anaconda\\envs\\boluo\\lib\\site-packages\\epics\\ca.py\", line 938, in <listcomp>\n",
      "    writer(*[bytes2str(a) for a in args])\n",
      "  File \"D:\\anaconda\\envs\\boluo\\lib\\site-packages\\epics\\utils.py\", line 22, in bytes2str\n",
      "    return str(st1, IOENCODING)\n",
      "UnicodeDecodeError: 'utf-8' codec can't decode byte 0xc1 in position 72: invalid start byte\n"
     ]
    },
    {
     "ename": "NameError",
     "evalue": "name 'pv2' is not defined",
     "output_type": "error",
     "traceback": [
      "\u001B[1;31m---------------------------------------------------------------------------\u001B[0m",
      "\u001B[1;31mNameError\u001B[0m                                 Traceback (most recent call last)",
      "Cell \u001B[1;32mIn[4], line 1\u001B[0m\n\u001B[1;32m----> 1\u001B[0m \u001B[43mpv2\u001B[49m\u001B[38;5;241m.\u001B[39mget()\n",
      "\u001B[1;31mNameError\u001B[0m: name 'pv2' is not defined"
     ]
    }
   ],
   "source": [
    "pv2.get()"
   ],
   "metadata": {
    "collapsed": false,
    "ExecuteTime": {
     "end_time": "2024-10-10T07:09:03.250805400Z",
     "start_time": "2024-10-10T07:09:02.723217800Z"
    }
   },
   "id": "ea396e15330ffec"
  },
  {
   "cell_type": "code",
   "execution_count": 6,
   "outputs": [
    {
     "name": "stderr",
     "output_type": "stream",
     "text": [
      "Exception ignored on calling ctypes callback function: <function replace_printf_handler.<locals>.m_handler at 0x000002BF2E6B5B80>\n",
      "Traceback (most recent call last):\n",
      "  File \"D:\\anaconda\\envs\\boluo\\lib\\site-packages\\epics\\ca.py\", line 938, in m_handler\n",
      "    writer(*[bytes2str(a) for a in args])\n",
      "  File \"D:\\anaconda\\envs\\boluo\\lib\\site-packages\\epics\\ca.py\", line 938, in <listcomp>\n",
      "    writer(*[bytes2str(a) for a in args])\n",
      "  File \"D:\\anaconda\\envs\\boluo\\lib\\site-packages\\epics\\utils.py\", line 22, in bytes2str\n",
      "    return str(st1, IOENCODING)\n",
      "UnicodeDecodeError: 'utf-8' codec can't decode byte 0xc1 in position 41: invalid start byte\n"
     ]
    }
   ],
   "source": [
    "pv3.get()"
   ],
   "metadata": {
    "collapsed": false,
    "ExecuteTime": {
     "end_time": "2024-10-10T02:22:05.666727900Z",
     "start_time": "2024-10-10T02:22:03.648602Z"
    }
   },
   "id": "dbb8098bfc4da636"
  },
  {
   "cell_type": "code",
   "execution_count": 7,
   "outputs": [],
   "source": [
    "pv2.get()"
   ],
   "metadata": {
    "collapsed": false,
    "ExecuteTime": {
     "end_time": "2024-10-10T02:22:11.866892900Z",
     "start_time": "2024-10-10T02:22:09.839289700Z"
    }
   },
   "id": "4a59a4d5f758d834"
  },
  {
   "cell_type": "code",
   "execution_count": null,
   "outputs": [],
   "source": [],
   "metadata": {
    "collapsed": false
   },
   "id": "223433086bbce365"
  }
 ],
 "metadata": {
  "kernelspec": {
   "display_name": "Python 3",
   "language": "python",
   "name": "python3"
  },
  "language_info": {
   "codemirror_mode": {
    "name": "ipython",
    "version": 2
   },
   "file_extension": ".py",
   "mimetype": "text/x-python",
   "name": "python",
   "nbconvert_exporter": "python",
   "pygments_lexer": "ipython2",
   "version": "2.7.6"
  }
 },
 "nbformat": 4,
 "nbformat_minor": 5
}
